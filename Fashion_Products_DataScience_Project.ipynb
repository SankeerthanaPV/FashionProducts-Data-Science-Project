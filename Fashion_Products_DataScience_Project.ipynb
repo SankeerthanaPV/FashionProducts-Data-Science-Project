{
  "cells": [
    {
      "cell_type": "code",
      "execution_count": 2,
      "metadata": {
        "id": "P9Jf6lf6gXZF"
      },
      "outputs": [],
      "source": [
        "import pandas as pd\n",
        "from sklearn.metrics.pairwise import cosine_similarity\n",
        "from sklearn.preprocessing import StandardScaler\n",
        "from sklearn.cluster import KMeans\n",
        "import plotly.express as px\n",
        "import plotly.graph_objs as go\n",
        "import matplotlib.pyplot as plt\n",
        "from mlxtend.frequent_patterns import apriori\n",
        "from mlxtend.frequent_patterns import association_rules\n",
        "import warnings; warnings.filterwarnings('ignore')\n"
      ]
    },
    {
      "cell_type": "code",
      "execution_count": 3,
      "metadata": {
        "colab": {
          "base_uri": "https://localhost:8080/"
        },
        "id": "-zb2WWJK0Qx-",
        "outputId": "d7ad9447-655b-4c00-9d9d-bcc7b5a2dc26"
      },
      "outputs": [
        {
          "output_type": "stream",
          "name": "stdout",
          "text": [
            "Requirement already satisfied: mlxtend in /usr/local/lib/python3.10/dist-packages (0.22.0)\n",
            "Requirement already satisfied: scipy>=1.2.1 in /usr/local/lib/python3.10/dist-packages (from mlxtend) (1.10.1)\n",
            "Requirement already satisfied: numpy>=1.16.2 in /usr/local/lib/python3.10/dist-packages (from mlxtend) (1.23.5)\n",
            "Requirement already satisfied: pandas>=0.24.2 in /usr/local/lib/python3.10/dist-packages (from mlxtend) (1.5.3)\n",
            "Requirement already satisfied: scikit-learn>=1.0.2 in /usr/local/lib/python3.10/dist-packages (from mlxtend) (1.2.2)\n",
            "Requirement already satisfied: matplotlib>=3.0.0 in /usr/local/lib/python3.10/dist-packages (from mlxtend) (3.7.1)\n",
            "Requirement already satisfied: joblib>=0.13.2 in /usr/local/lib/python3.10/dist-packages (from mlxtend) (1.3.1)\n",
            "Requirement already satisfied: setuptools in /usr/local/lib/python3.10/dist-packages (from mlxtend) (67.7.2)\n",
            "Requirement already satisfied: contourpy>=1.0.1 in /usr/local/lib/python3.10/dist-packages (from matplotlib>=3.0.0->mlxtend) (1.1.0)\n",
            "Requirement already satisfied: cycler>=0.10 in /usr/local/lib/python3.10/dist-packages (from matplotlib>=3.0.0->mlxtend) (0.11.0)\n",
            "Requirement already satisfied: fonttools>=4.22.0 in /usr/local/lib/python3.10/dist-packages (from matplotlib>=3.0.0->mlxtend) (4.42.0)\n",
            "Requirement already satisfied: kiwisolver>=1.0.1 in /usr/local/lib/python3.10/dist-packages (from matplotlib>=3.0.0->mlxtend) (1.4.4)\n",
            "Requirement already satisfied: packaging>=20.0 in /usr/local/lib/python3.10/dist-packages (from matplotlib>=3.0.0->mlxtend) (23.1)\n",
            "Requirement already satisfied: pillow>=6.2.0 in /usr/local/lib/python3.10/dist-packages (from matplotlib>=3.0.0->mlxtend) (9.4.0)\n",
            "Requirement already satisfied: pyparsing>=2.3.1 in /usr/local/lib/python3.10/dist-packages (from matplotlib>=3.0.0->mlxtend) (3.1.1)\n",
            "Requirement already satisfied: python-dateutil>=2.7 in /usr/local/lib/python3.10/dist-packages (from matplotlib>=3.0.0->mlxtend) (2.8.2)\n",
            "Requirement already satisfied: pytz>=2020.1 in /usr/local/lib/python3.10/dist-packages (from pandas>=0.24.2->mlxtend) (2022.7.1)\n",
            "Requirement already satisfied: threadpoolctl>=2.0.0 in /usr/local/lib/python3.10/dist-packages (from scikit-learn>=1.0.2->mlxtend) (3.2.0)\n",
            "Requirement already satisfied: six>=1.5 in /usr/local/lib/python3.10/dist-packages (from python-dateutil>=2.7->matplotlib>=3.0.0->mlxtend) (1.16.0)\n"
          ]
        }
      ],
      "source": [
        "pip install mlxtend"
      ]
    },
    {
      "cell_type": "code",
      "execution_count": 4,
      "metadata": {
        "id": "rcKbb6eVggvR"
      },
      "outputs": [],
      "source": [
        "df=pd.read_csv('/content/fashion_products.csv')"
      ]
    },
    {
      "cell_type": "code",
      "execution_count": 5,
      "metadata": {
        "colab": {
          "base_uri": "https://localhost:8080/",
          "height": 206
        },
        "id": "vUO7CvCKgkdp",
        "outputId": "14980a3a-0dbf-465f-ff6e-9e34272cb048"
      },
      "outputs": [
        {
          "output_type": "execute_result",
          "data": {
            "text/plain": [
              "   User ID  Product ID Product Name   Brand         Category  Price    Rating  \\\n",
              "0       75         144        Shoes  Adidas    Kids' Fashion     57  1.000967   \n",
              "1       31         560        Dress  Adidas  Women's Fashion     99  1.002064   \n",
              "2       71         589      T-shirt  Adidas  Women's Fashion     99  1.024250   \n",
              "3       54         179        Shoes  Adidas    Kids' Fashion     53  1.028323   \n",
              "4       80         601        Dress  Adidas  Women's Fashion     44  1.034707   \n",
              "\n",
              "   Color Size  \n",
              "0   Blue    M  \n",
              "1    Red   XL  \n",
              "2    Red    L  \n",
              "3   Blue    M  \n",
              "4  White    L  "
            ],
            "text/html": [
              "\n",
              "\n",
              "  <div id=\"df-e82294be-17c0-4eab-af40-f2b3270866f6\">\n",
              "    <div class=\"colab-df-container\">\n",
              "      <div>\n",
              "<style scoped>\n",
              "    .dataframe tbody tr th:only-of-type {\n",
              "        vertical-align: middle;\n",
              "    }\n",
              "\n",
              "    .dataframe tbody tr th {\n",
              "        vertical-align: top;\n",
              "    }\n",
              "\n",
              "    .dataframe thead th {\n",
              "        text-align: right;\n",
              "    }\n",
              "</style>\n",
              "<table border=\"1\" class=\"dataframe\">\n",
              "  <thead>\n",
              "    <tr style=\"text-align: right;\">\n",
              "      <th></th>\n",
              "      <th>User ID</th>\n",
              "      <th>Product ID</th>\n",
              "      <th>Product Name</th>\n",
              "      <th>Brand</th>\n",
              "      <th>Category</th>\n",
              "      <th>Price</th>\n",
              "      <th>Rating</th>\n",
              "      <th>Color</th>\n",
              "      <th>Size</th>\n",
              "    </tr>\n",
              "  </thead>\n",
              "  <tbody>\n",
              "    <tr>\n",
              "      <th>0</th>\n",
              "      <td>75</td>\n",
              "      <td>144</td>\n",
              "      <td>Shoes</td>\n",
              "      <td>Adidas</td>\n",
              "      <td>Kids' Fashion</td>\n",
              "      <td>57</td>\n",
              "      <td>1.000967</td>\n",
              "      <td>Blue</td>\n",
              "      <td>M</td>\n",
              "    </tr>\n",
              "    <tr>\n",
              "      <th>1</th>\n",
              "      <td>31</td>\n",
              "      <td>560</td>\n",
              "      <td>Dress</td>\n",
              "      <td>Adidas</td>\n",
              "      <td>Women's Fashion</td>\n",
              "      <td>99</td>\n",
              "      <td>1.002064</td>\n",
              "      <td>Red</td>\n",
              "      <td>XL</td>\n",
              "    </tr>\n",
              "    <tr>\n",
              "      <th>2</th>\n",
              "      <td>71</td>\n",
              "      <td>589</td>\n",
              "      <td>T-shirt</td>\n",
              "      <td>Adidas</td>\n",
              "      <td>Women's Fashion</td>\n",
              "      <td>99</td>\n",
              "      <td>1.024250</td>\n",
              "      <td>Red</td>\n",
              "      <td>L</td>\n",
              "    </tr>\n",
              "    <tr>\n",
              "      <th>3</th>\n",
              "      <td>54</td>\n",
              "      <td>179</td>\n",
              "      <td>Shoes</td>\n",
              "      <td>Adidas</td>\n",
              "      <td>Kids' Fashion</td>\n",
              "      <td>53</td>\n",
              "      <td>1.028323</td>\n",
              "      <td>Blue</td>\n",
              "      <td>M</td>\n",
              "    </tr>\n",
              "    <tr>\n",
              "      <th>4</th>\n",
              "      <td>80</td>\n",
              "      <td>601</td>\n",
              "      <td>Dress</td>\n",
              "      <td>Adidas</td>\n",
              "      <td>Women's Fashion</td>\n",
              "      <td>44</td>\n",
              "      <td>1.034707</td>\n",
              "      <td>White</td>\n",
              "      <td>L</td>\n",
              "    </tr>\n",
              "  </tbody>\n",
              "</table>\n",
              "</div>\n",
              "      <button class=\"colab-df-convert\" onclick=\"convertToInteractive('df-e82294be-17c0-4eab-af40-f2b3270866f6')\"\n",
              "              title=\"Convert this dataframe to an interactive table.\"\n",
              "              style=\"display:none;\">\n",
              "\n",
              "  <svg xmlns=\"http://www.w3.org/2000/svg\" height=\"24px\"viewBox=\"0 0 24 24\"\n",
              "       width=\"24px\">\n",
              "    <path d=\"M0 0h24v24H0V0z\" fill=\"none\"/>\n",
              "    <path d=\"M18.56 5.44l.94 2.06.94-2.06 2.06-.94-2.06-.94-.94-2.06-.94 2.06-2.06.94zm-11 1L8.5 8.5l.94-2.06 2.06-.94-2.06-.94L8.5 2.5l-.94 2.06-2.06.94zm10 10l.94 2.06.94-2.06 2.06-.94-2.06-.94-.94-2.06-.94 2.06-2.06.94z\"/><path d=\"M17.41 7.96l-1.37-1.37c-.4-.4-.92-.59-1.43-.59-.52 0-1.04.2-1.43.59L10.3 9.45l-7.72 7.72c-.78.78-.78 2.05 0 2.83L4 21.41c.39.39.9.59 1.41.59.51 0 1.02-.2 1.41-.59l7.78-7.78 2.81-2.81c.8-.78.8-2.07 0-2.86zM5.41 20L4 18.59l7.72-7.72 1.47 1.35L5.41 20z\"/>\n",
              "  </svg>\n",
              "      </button>\n",
              "\n",
              "\n",
              "\n",
              "    <div id=\"df-fbff4b58-677b-4841-b829-835c713c9c90\">\n",
              "      <button class=\"colab-df-quickchart\" onclick=\"quickchart('df-fbff4b58-677b-4841-b829-835c713c9c90')\"\n",
              "              title=\"Suggest charts.\"\n",
              "              style=\"display:none;\">\n",
              "\n",
              "<svg xmlns=\"http://www.w3.org/2000/svg\" height=\"24px\"viewBox=\"0 0 24 24\"\n",
              "     width=\"24px\">\n",
              "    <g>\n",
              "        <path d=\"M19 3H5c-1.1 0-2 .9-2 2v14c0 1.1.9 2 2 2h14c1.1 0 2-.9 2-2V5c0-1.1-.9-2-2-2zM9 17H7v-7h2v7zm4 0h-2V7h2v10zm4 0h-2v-4h2v4z\"/>\n",
              "    </g>\n",
              "</svg>\n",
              "      </button>\n",
              "    </div>\n",
              "\n",
              "<style>\n",
              "  .colab-df-quickchart {\n",
              "    background-color: #E8F0FE;\n",
              "    border: none;\n",
              "    border-radius: 50%;\n",
              "    cursor: pointer;\n",
              "    display: none;\n",
              "    fill: #1967D2;\n",
              "    height: 32px;\n",
              "    padding: 0 0 0 0;\n",
              "    width: 32px;\n",
              "  }\n",
              "\n",
              "  .colab-df-quickchart:hover {\n",
              "    background-color: #E2EBFA;\n",
              "    box-shadow: 0px 1px 2px rgba(60, 64, 67, 0.3), 0px 1px 3px 1px rgba(60, 64, 67, 0.15);\n",
              "    fill: #174EA6;\n",
              "  }\n",
              "\n",
              "  [theme=dark] .colab-df-quickchart {\n",
              "    background-color: #3B4455;\n",
              "    fill: #D2E3FC;\n",
              "  }\n",
              "\n",
              "  [theme=dark] .colab-df-quickchart:hover {\n",
              "    background-color: #434B5C;\n",
              "    box-shadow: 0px 1px 3px 1px rgba(0, 0, 0, 0.15);\n",
              "    filter: drop-shadow(0px 1px 2px rgba(0, 0, 0, 0.3));\n",
              "    fill: #FFFFFF;\n",
              "  }\n",
              "</style>\n",
              "\n",
              "    <script>\n",
              "      async function quickchart(key) {\n",
              "        const containerElement = document.querySelector('#' + key);\n",
              "        const charts = await google.colab.kernel.invokeFunction(\n",
              "            'suggestCharts', [key], {});\n",
              "      }\n",
              "    </script>\n",
              "\n",
              "      <script>\n",
              "\n",
              "function displayQuickchartButton(domScope) {\n",
              "  let quickchartButtonEl =\n",
              "    domScope.querySelector('#df-fbff4b58-677b-4841-b829-835c713c9c90 button.colab-df-quickchart');\n",
              "  quickchartButtonEl.style.display =\n",
              "    google.colab.kernel.accessAllowed ? 'block' : 'none';\n",
              "}\n",
              "\n",
              "        displayQuickchartButton(document);\n",
              "      </script>\n",
              "      <style>\n",
              "    .colab-df-container {\n",
              "      display:flex;\n",
              "      flex-wrap:wrap;\n",
              "      gap: 12px;\n",
              "    }\n",
              "\n",
              "    .colab-df-convert {\n",
              "      background-color: #E8F0FE;\n",
              "      border: none;\n",
              "      border-radius: 50%;\n",
              "      cursor: pointer;\n",
              "      display: none;\n",
              "      fill: #1967D2;\n",
              "      height: 32px;\n",
              "      padding: 0 0 0 0;\n",
              "      width: 32px;\n",
              "    }\n",
              "\n",
              "    .colab-df-convert:hover {\n",
              "      background-color: #E2EBFA;\n",
              "      box-shadow: 0px 1px 2px rgba(60, 64, 67, 0.3), 0px 1px 3px 1px rgba(60, 64, 67, 0.15);\n",
              "      fill: #174EA6;\n",
              "    }\n",
              "\n",
              "    [theme=dark] .colab-df-convert {\n",
              "      background-color: #3B4455;\n",
              "      fill: #D2E3FC;\n",
              "    }\n",
              "\n",
              "    [theme=dark] .colab-df-convert:hover {\n",
              "      background-color: #434B5C;\n",
              "      box-shadow: 0px 1px 3px 1px rgba(0, 0, 0, 0.15);\n",
              "      filter: drop-shadow(0px 1px 2px rgba(0, 0, 0, 0.3));\n",
              "      fill: #FFFFFF;\n",
              "    }\n",
              "  </style>\n",
              "\n",
              "      <script>\n",
              "        const buttonEl =\n",
              "          document.querySelector('#df-e82294be-17c0-4eab-af40-f2b3270866f6 button.colab-df-convert');\n",
              "        buttonEl.style.display =\n",
              "          google.colab.kernel.accessAllowed ? 'block' : 'none';\n",
              "\n",
              "        async function convertToInteractive(key) {\n",
              "          const element = document.querySelector('#df-e82294be-17c0-4eab-af40-f2b3270866f6');\n",
              "          const dataTable =\n",
              "            await google.colab.kernel.invokeFunction('convertToInteractive',\n",
              "                                                     [key], {});\n",
              "          if (!dataTable) return;\n",
              "\n",
              "          const docLinkHtml = 'Like what you see? Visit the ' +\n",
              "            '<a target=\"_blank\" href=https://colab.research.google.com/notebooks/data_table.ipynb>data table notebook</a>'\n",
              "            + ' to learn more about interactive tables.';\n",
              "          element.innerHTML = '';\n",
              "          dataTable['output_type'] = 'display_data';\n",
              "          await google.colab.output.renderOutput(dataTable, element);\n",
              "          const docLink = document.createElement('div');\n",
              "          docLink.innerHTML = docLinkHtml;\n",
              "          element.appendChild(docLink);\n",
              "        }\n",
              "      </script>\n",
              "    </div>\n",
              "  </div>\n"
            ]
          },
          "metadata": {},
          "execution_count": 5
        }
      ],
      "source": [
        "df.head()"
      ]
    },
    {
      "cell_type": "code",
      "execution_count": 6,
      "metadata": {
        "colab": {
          "base_uri": "https://localhost:8080/"
        },
        "id": "kqLbyNJ3g-W8",
        "outputId": "927a71b7-3ea4-4b3c-ccd3-46428fa94512"
      },
      "outputs": [
        {
          "output_type": "execute_result",
          "data": {
            "text/plain": [
              "User ID           int64\n",
              "Product ID        int64\n",
              "Product Name     object\n",
              "Brand            object\n",
              "Category         object\n",
              "Price             int64\n",
              "Rating          float64\n",
              "Color            object\n",
              "Size             object\n",
              "dtype: object"
            ]
          },
          "metadata": {},
          "execution_count": 6
        }
      ],
      "source": [
        "df.dtypes"
      ]
    },
    {
      "cell_type": "code",
      "execution_count": 7,
      "metadata": {
        "id": "fpVJBGDchHld"
      },
      "outputs": [],
      "source": [
        "cat_cols=df.select_dtypes(include=object).columns"
      ]
    },
    {
      "cell_type": "code",
      "execution_count": 8,
      "metadata": {
        "colab": {
          "base_uri": "https://localhost:8080/"
        },
        "id": "XInUf-4RhSCQ",
        "outputId": "f1bef199-f8af-44c1-a186-7e698d833142"
      },
      "outputs": [
        {
          "output_type": "execute_result",
          "data": {
            "text/plain": [
              "Index(['Product Name', 'Brand', 'Category', 'Color', 'Size'], dtype='object')"
            ]
          },
          "metadata": {},
          "execution_count": 8
        }
      ],
      "source": [
        "cat_cols"
      ]
    },
    {
      "cell_type": "code",
      "execution_count": 9,
      "metadata": {
        "id": "aXYKDBwDhWys"
      },
      "outputs": [],
      "source": [
        "df[cat_cols]=df[cat_cols].astype('category')"
      ]
    },
    {
      "cell_type": "code",
      "execution_count": 10,
      "metadata": {
        "id": "XM-ein-uoqYu"
      },
      "outputs": [],
      "source": [
        "num_cols=df.columns.difference(cat_cols)"
      ]
    },
    {
      "cell_type": "code",
      "execution_count": 11,
      "metadata": {
        "colab": {
          "base_uri": "https://localhost:8080/"
        },
        "id": "Hd1ygdhnhivL",
        "outputId": "7b867b62-f27d-4a25-b6d7-1263eeeef8fe"
      },
      "outputs": [
        {
          "output_type": "execute_result",
          "data": {
            "text/plain": [
              "User ID            int64\n",
              "Product ID         int64\n",
              "Product Name    category\n",
              "Brand           category\n",
              "Category        category\n",
              "Price              int64\n",
              "Rating           float64\n",
              "Color           category\n",
              "Size            category\n",
              "dtype: object"
            ]
          },
          "metadata": {},
          "execution_count": 11
        }
      ],
      "source": [
        "df.dtypes"
      ]
    },
    {
      "cell_type": "markdown",
      "metadata": {
        "id": "DHuFv_i9tigu"
      },
      "source": [
        " 2. Product Recommendation: Build a recommendation system to suggest products to customers based on their past interactions, ratings, and preferences."
      ]
    },
    {
      "cell_type": "code",
      "execution_count": 12,
      "metadata": {
        "colab": {
          "base_uri": "https://localhost:8080/",
          "height": 237
        },
        "id": "DkUQhuwdi5eV",
        "outputId": "7cafe4ae-a071-4271-e819-75e59c71a551"
      },
      "outputs": [
        {
          "output_type": "execute_result",
          "data": {
            "text/plain": [
              "Brand           Adidas     Gucci       H&M      Nike      Zara\n",
              "Product Name                                                  \n",
              "Dress         2.922770  3.309225  2.795876  3.055315  3.103453\n",
              "Jeans         2.940334  3.131762  2.964701  2.729210  3.135864\n",
              "Shoes         2.576006  3.354003  3.102472  2.982125  2.569856\n",
              "Sweater       3.685384  2.964846  3.008260  2.954748  3.186871\n",
              "T-shirt       2.801723  3.043445  3.127210  2.753413  3.127496"
            ],
            "text/html": [
              "\n",
              "\n",
              "  <div id=\"df-57f1a787-7728-4236-8c67-55a3b6fab8cc\">\n",
              "    <div class=\"colab-df-container\">\n",
              "      <div>\n",
              "<style scoped>\n",
              "    .dataframe tbody tr th:only-of-type {\n",
              "        vertical-align: middle;\n",
              "    }\n",
              "\n",
              "    .dataframe tbody tr th {\n",
              "        vertical-align: top;\n",
              "    }\n",
              "\n",
              "    .dataframe thead th {\n",
              "        text-align: right;\n",
              "    }\n",
              "</style>\n",
              "<table border=\"1\" class=\"dataframe\">\n",
              "  <thead>\n",
              "    <tr style=\"text-align: right;\">\n",
              "      <th>Brand</th>\n",
              "      <th>Adidas</th>\n",
              "      <th>Gucci</th>\n",
              "      <th>H&amp;M</th>\n",
              "      <th>Nike</th>\n",
              "      <th>Zara</th>\n",
              "    </tr>\n",
              "    <tr>\n",
              "      <th>Product Name</th>\n",
              "      <th></th>\n",
              "      <th></th>\n",
              "      <th></th>\n",
              "      <th></th>\n",
              "      <th></th>\n",
              "    </tr>\n",
              "  </thead>\n",
              "  <tbody>\n",
              "    <tr>\n",
              "      <th>Dress</th>\n",
              "      <td>2.922770</td>\n",
              "      <td>3.309225</td>\n",
              "      <td>2.795876</td>\n",
              "      <td>3.055315</td>\n",
              "      <td>3.103453</td>\n",
              "    </tr>\n",
              "    <tr>\n",
              "      <th>Jeans</th>\n",
              "      <td>2.940334</td>\n",
              "      <td>3.131762</td>\n",
              "      <td>2.964701</td>\n",
              "      <td>2.729210</td>\n",
              "      <td>3.135864</td>\n",
              "    </tr>\n",
              "    <tr>\n",
              "      <th>Shoes</th>\n",
              "      <td>2.576006</td>\n",
              "      <td>3.354003</td>\n",
              "      <td>3.102472</td>\n",
              "      <td>2.982125</td>\n",
              "      <td>2.569856</td>\n",
              "    </tr>\n",
              "    <tr>\n",
              "      <th>Sweater</th>\n",
              "      <td>3.685384</td>\n",
              "      <td>2.964846</td>\n",
              "      <td>3.008260</td>\n",
              "      <td>2.954748</td>\n",
              "      <td>3.186871</td>\n",
              "    </tr>\n",
              "    <tr>\n",
              "      <th>T-shirt</th>\n",
              "      <td>2.801723</td>\n",
              "      <td>3.043445</td>\n",
              "      <td>3.127210</td>\n",
              "      <td>2.753413</td>\n",
              "      <td>3.127496</td>\n",
              "    </tr>\n",
              "  </tbody>\n",
              "</table>\n",
              "</div>\n",
              "      <button class=\"colab-df-convert\" onclick=\"convertToInteractive('df-57f1a787-7728-4236-8c67-55a3b6fab8cc')\"\n",
              "              title=\"Convert this dataframe to an interactive table.\"\n",
              "              style=\"display:none;\">\n",
              "\n",
              "  <svg xmlns=\"http://www.w3.org/2000/svg\" height=\"24px\"viewBox=\"0 0 24 24\"\n",
              "       width=\"24px\">\n",
              "    <path d=\"M0 0h24v24H0V0z\" fill=\"none\"/>\n",
              "    <path d=\"M18.56 5.44l.94 2.06.94-2.06 2.06-.94-2.06-.94-.94-2.06-.94 2.06-2.06.94zm-11 1L8.5 8.5l.94-2.06 2.06-.94-2.06-.94L8.5 2.5l-.94 2.06-2.06.94zm10 10l.94 2.06.94-2.06 2.06-.94-2.06-.94-.94-2.06-.94 2.06-2.06.94z\"/><path d=\"M17.41 7.96l-1.37-1.37c-.4-.4-.92-.59-1.43-.59-.52 0-1.04.2-1.43.59L10.3 9.45l-7.72 7.72c-.78.78-.78 2.05 0 2.83L4 21.41c.39.39.9.59 1.41.59.51 0 1.02-.2 1.41-.59l7.78-7.78 2.81-2.81c.8-.78.8-2.07 0-2.86zM5.41 20L4 18.59l7.72-7.72 1.47 1.35L5.41 20z\"/>\n",
              "  </svg>\n",
              "      </button>\n",
              "\n",
              "\n",
              "\n",
              "    <div id=\"df-a348dfbd-fc0c-4d21-a8dc-bf2090c9dac5\">\n",
              "      <button class=\"colab-df-quickchart\" onclick=\"quickchart('df-a348dfbd-fc0c-4d21-a8dc-bf2090c9dac5')\"\n",
              "              title=\"Suggest charts.\"\n",
              "              style=\"display:none;\">\n",
              "\n",
              "<svg xmlns=\"http://www.w3.org/2000/svg\" height=\"24px\"viewBox=\"0 0 24 24\"\n",
              "     width=\"24px\">\n",
              "    <g>\n",
              "        <path d=\"M19 3H5c-1.1 0-2 .9-2 2v14c0 1.1.9 2 2 2h14c1.1 0 2-.9 2-2V5c0-1.1-.9-2-2-2zM9 17H7v-7h2v7zm4 0h-2V7h2v10zm4 0h-2v-4h2v4z\"/>\n",
              "    </g>\n",
              "</svg>\n",
              "      </button>\n",
              "    </div>\n",
              "\n",
              "<style>\n",
              "  .colab-df-quickchart {\n",
              "    background-color: #E8F0FE;\n",
              "    border: none;\n",
              "    border-radius: 50%;\n",
              "    cursor: pointer;\n",
              "    display: none;\n",
              "    fill: #1967D2;\n",
              "    height: 32px;\n",
              "    padding: 0 0 0 0;\n",
              "    width: 32px;\n",
              "  }\n",
              "\n",
              "  .colab-df-quickchart:hover {\n",
              "    background-color: #E2EBFA;\n",
              "    box-shadow: 0px 1px 2px rgba(60, 64, 67, 0.3), 0px 1px 3px 1px rgba(60, 64, 67, 0.15);\n",
              "    fill: #174EA6;\n",
              "  }\n",
              "\n",
              "  [theme=dark] .colab-df-quickchart {\n",
              "    background-color: #3B4455;\n",
              "    fill: #D2E3FC;\n",
              "  }\n",
              "\n",
              "  [theme=dark] .colab-df-quickchart:hover {\n",
              "    background-color: #434B5C;\n",
              "    box-shadow: 0px 1px 3px 1px rgba(0, 0, 0, 0.15);\n",
              "    filter: drop-shadow(0px 1px 2px rgba(0, 0, 0, 0.3));\n",
              "    fill: #FFFFFF;\n",
              "  }\n",
              "</style>\n",
              "\n",
              "    <script>\n",
              "      async function quickchart(key) {\n",
              "        const containerElement = document.querySelector('#' + key);\n",
              "        const charts = await google.colab.kernel.invokeFunction(\n",
              "            'suggestCharts', [key], {});\n",
              "      }\n",
              "    </script>\n",
              "\n",
              "      <script>\n",
              "\n",
              "function displayQuickchartButton(domScope) {\n",
              "  let quickchartButtonEl =\n",
              "    domScope.querySelector('#df-a348dfbd-fc0c-4d21-a8dc-bf2090c9dac5 button.colab-df-quickchart');\n",
              "  quickchartButtonEl.style.display =\n",
              "    google.colab.kernel.accessAllowed ? 'block' : 'none';\n",
              "}\n",
              "\n",
              "        displayQuickchartButton(document);\n",
              "      </script>\n",
              "      <style>\n",
              "    .colab-df-container {\n",
              "      display:flex;\n",
              "      flex-wrap:wrap;\n",
              "      gap: 12px;\n",
              "    }\n",
              "\n",
              "    .colab-df-convert {\n",
              "      background-color: #E8F0FE;\n",
              "      border: none;\n",
              "      border-radius: 50%;\n",
              "      cursor: pointer;\n",
              "      display: none;\n",
              "      fill: #1967D2;\n",
              "      height: 32px;\n",
              "      padding: 0 0 0 0;\n",
              "      width: 32px;\n",
              "    }\n",
              "\n",
              "    .colab-df-convert:hover {\n",
              "      background-color: #E2EBFA;\n",
              "      box-shadow: 0px 1px 2px rgba(60, 64, 67, 0.3), 0px 1px 3px 1px rgba(60, 64, 67, 0.15);\n",
              "      fill: #174EA6;\n",
              "    }\n",
              "\n",
              "    [theme=dark] .colab-df-convert {\n",
              "      background-color: #3B4455;\n",
              "      fill: #D2E3FC;\n",
              "    }\n",
              "\n",
              "    [theme=dark] .colab-df-convert:hover {\n",
              "      background-color: #434B5C;\n",
              "      box-shadow: 0px 1px 3px 1px rgba(0, 0, 0, 0.15);\n",
              "      filter: drop-shadow(0px 1px 2px rgba(0, 0, 0, 0.3));\n",
              "      fill: #FFFFFF;\n",
              "    }\n",
              "  </style>\n",
              "\n",
              "      <script>\n",
              "        const buttonEl =\n",
              "          document.querySelector('#df-57f1a787-7728-4236-8c67-55a3b6fab8cc button.colab-df-convert');\n",
              "        buttonEl.style.display =\n",
              "          google.colab.kernel.accessAllowed ? 'block' : 'none';\n",
              "\n",
              "        async function convertToInteractive(key) {\n",
              "          const element = document.querySelector('#df-57f1a787-7728-4236-8c67-55a3b6fab8cc');\n",
              "          const dataTable =\n",
              "            await google.colab.kernel.invokeFunction('convertToInteractive',\n",
              "                                                     [key], {});\n",
              "          if (!dataTable) return;\n",
              "\n",
              "          const docLinkHtml = 'Like what you see? Visit the ' +\n",
              "            '<a target=\"_blank\" href=https://colab.research.google.com/notebooks/data_table.ipynb>data table notebook</a>'\n",
              "            + ' to learn more about interactive tables.';\n",
              "          element.innerHTML = '';\n",
              "          dataTable['output_type'] = 'display_data';\n",
              "          await google.colab.output.renderOutput(dataTable, element);\n",
              "          const docLink = document.createElement('div');\n",
              "          docLink.innerHTML = docLinkHtml;\n",
              "          element.appendChild(docLink);\n",
              "        }\n",
              "      </script>\n",
              "    </div>\n",
              "  </div>\n"
            ]
          },
          "metadata": {},
          "execution_count": 12
        }
      ],
      "source": [
        "# Create a user-item interaction matrix (replace this with your actual matrix)\n",
        "interaction_matrix = pd.pivot_table(df, values='Rating', index='Product Name', columns='Brand', fill_value=0)\n",
        "interaction_matrix"
      ]
    },
    {
      "cell_type": "code",
      "execution_count": 13,
      "metadata": {
        "colab": {
          "base_uri": "https://localhost:8080/"
        },
        "id": "0kkTMx6h6IfM",
        "outputId": "12328ab1-9260-44f2-dea5-056e1336ceac"
      },
      "outputs": [
        {
          "output_type": "execute_result",
          "data": {
            "text/plain": [
              "array([[1.        , 0.98689367, 0.99049904, 0.99194752, 0.99537066],\n",
              "       [0.98689367, 1.        , 0.99755673, 0.99897089, 0.99345704],\n",
              "       [0.99049904, 0.99755673, 1.        , 0.99740675, 0.99522778],\n",
              "       [0.99194752, 0.99897089, 0.99740675, 1.        , 0.99499814],\n",
              "       [0.99537066, 0.99345704, 0.99522778, 0.99499814, 1.        ]])"
            ]
          },
          "metadata": {},
          "execution_count": 13
        }
      ],
      "source": [
        "# Calculate the cosine similarity between products\n",
        "similarities = cosine_similarity(interaction_matrix.T)\n",
        "similarities"
      ]
    },
    {
      "cell_type": "code",
      "execution_count": 14,
      "metadata": {
        "id": "BpbKJH6E6Ipz"
      },
      "outputs": [],
      "source": [
        "# Create a dictionary to map product names to indices\n",
        "product_indices = {product: i for i, product in enumerate(interaction_matrix.index)}\n",
        "\n",
        "# Function to recommend products based on similarity\n",
        "def recommend_products(Product_Name, num_recommendations=5):\n",
        "    product_index = product_indices[Product_Name]\n",
        "    similar_products = similarities[product_index]\n",
        "    recommended_indices = similar_products.argsort()[-num_recommendations-1:-1][::-1]\n",
        "    recommended_products = [interaction_matrix.index[i] for i in recommended_indices]\n",
        "    return recommended_products"
      ]
    },
    {
      "cell_type": "code",
      "execution_count": 15,
      "metadata": {
        "colab": {
          "base_uri": "https://localhost:8080/"
        },
        "id": "oSMmEXcn6Iu_",
        "outputId": "2154a2d8-f66d-4913-c93a-726bd4ded6ea"
      },
      "outputs": [
        {
          "output_type": "stream",
          "name": "stdout",
          "text": [
            "Recommended products for Dress:\n",
            "T-shirt\n",
            "Sweater\n",
            "Shoes\n",
            "Jeans\n"
          ]
        }
      ],
      "source": [
        "# Example usage\n",
        "product_to_recommend = \"Dress\"\n",
        "recommended_products = recommend_products(product_to_recommend)\n",
        "print(f\"Recommended products for {product_to_recommend}:\")\n",
        "for product in recommended_products:\n",
        "    print(product)"
      ]
    },
    {
      "cell_type": "markdown",
      "metadata": {
        "id": "jHWbOTnXnNzj"
      },
      "source": [
        "#Preprocessing"
      ]
    },
    {
      "cell_type": "markdown",
      "metadata": {
        "id": "oHwm2MgJpRyz"
      },
      "source": [
        "Standardization"
      ]
    },
    {
      "cell_type": "code",
      "execution_count": 16,
      "metadata": {
        "id": "wwruNIdbnYE2"
      },
      "outputs": [],
      "source": [
        "from sklearn.preprocessing import StandardScaler"
      ]
    },
    {
      "cell_type": "code",
      "execution_count": 17,
      "metadata": {
        "id": "GEgBKkTZnhGq"
      },
      "outputs": [],
      "source": [
        "sc=StandardScaler()"
      ]
    },
    {
      "cell_type": "code",
      "execution_count": 18,
      "metadata": {
        "id": "mw7nkWZznkQZ"
      },
      "outputs": [],
      "source": [
        "df[num_cols]=pd.DataFrame(sc.fit_transform(df[num_cols]),columns=df[num_cols].columns)"
      ]
    },
    {
      "cell_type": "code",
      "execution_count": 19,
      "metadata": {
        "colab": {
          "base_uri": "https://localhost:8080/",
          "height": 206
        },
        "id": "ArOD8iBTpMXP",
        "outputId": "e66760d9-eba0-4037-d33d-cdb639e52378"
      },
      "outputs": [
        {
          "output_type": "execute_result",
          "data": {
            "text/plain": [
              "    User ID  Product ID Product Name   Brand         Category     Price  \\\n",
              "0  0.854489   -1.234953        Shoes  Adidas    Kids' Fashion  0.046235   \n",
              "1 -0.675046    0.206114        Dress  Adidas  Women's Fashion  1.644494   \n",
              "2  0.715440    0.306573      T-shirt  Adidas  Women's Fashion  1.644494   \n",
              "3  0.124483   -1.113709        Shoes  Adidas    Kids' Fashion -0.105980   \n",
              "4  1.028299    0.348142        Dress  Adidas  Women's Fashion -0.448464   \n",
              "\n",
              "     Rating  Color Size  \n",
              "0 -1.728399   Blue    M  \n",
              "1 -1.727448    Red   XL  \n",
              "2 -1.708199    Red    L  \n",
              "3 -1.704665   Blue    M  \n",
              "4 -1.699126  White    L  "
            ],
            "text/html": [
              "\n",
              "\n",
              "  <div id=\"df-f7008ada-482f-428a-a728-7eaef984fa59\">\n",
              "    <div class=\"colab-df-container\">\n",
              "      <div>\n",
              "<style scoped>\n",
              "    .dataframe tbody tr th:only-of-type {\n",
              "        vertical-align: middle;\n",
              "    }\n",
              "\n",
              "    .dataframe tbody tr th {\n",
              "        vertical-align: top;\n",
              "    }\n",
              "\n",
              "    .dataframe thead th {\n",
              "        text-align: right;\n",
              "    }\n",
              "</style>\n",
              "<table border=\"1\" class=\"dataframe\">\n",
              "  <thead>\n",
              "    <tr style=\"text-align: right;\">\n",
              "      <th></th>\n",
              "      <th>User ID</th>\n",
              "      <th>Product ID</th>\n",
              "      <th>Product Name</th>\n",
              "      <th>Brand</th>\n",
              "      <th>Category</th>\n",
              "      <th>Price</th>\n",
              "      <th>Rating</th>\n",
              "      <th>Color</th>\n",
              "      <th>Size</th>\n",
              "    </tr>\n",
              "  </thead>\n",
              "  <tbody>\n",
              "    <tr>\n",
              "      <th>0</th>\n",
              "      <td>0.854489</td>\n",
              "      <td>-1.234953</td>\n",
              "      <td>Shoes</td>\n",
              "      <td>Adidas</td>\n",
              "      <td>Kids' Fashion</td>\n",
              "      <td>0.046235</td>\n",
              "      <td>-1.728399</td>\n",
              "      <td>Blue</td>\n",
              "      <td>M</td>\n",
              "    </tr>\n",
              "    <tr>\n",
              "      <th>1</th>\n",
              "      <td>-0.675046</td>\n",
              "      <td>0.206114</td>\n",
              "      <td>Dress</td>\n",
              "      <td>Adidas</td>\n",
              "      <td>Women's Fashion</td>\n",
              "      <td>1.644494</td>\n",
              "      <td>-1.727448</td>\n",
              "      <td>Red</td>\n",
              "      <td>XL</td>\n",
              "    </tr>\n",
              "    <tr>\n",
              "      <th>2</th>\n",
              "      <td>0.715440</td>\n",
              "      <td>0.306573</td>\n",
              "      <td>T-shirt</td>\n",
              "      <td>Adidas</td>\n",
              "      <td>Women's Fashion</td>\n",
              "      <td>1.644494</td>\n",
              "      <td>-1.708199</td>\n",
              "      <td>Red</td>\n",
              "      <td>L</td>\n",
              "    </tr>\n",
              "    <tr>\n",
              "      <th>3</th>\n",
              "      <td>0.124483</td>\n",
              "      <td>-1.113709</td>\n",
              "      <td>Shoes</td>\n",
              "      <td>Adidas</td>\n",
              "      <td>Kids' Fashion</td>\n",
              "      <td>-0.105980</td>\n",
              "      <td>-1.704665</td>\n",
              "      <td>Blue</td>\n",
              "      <td>M</td>\n",
              "    </tr>\n",
              "    <tr>\n",
              "      <th>4</th>\n",
              "      <td>1.028299</td>\n",
              "      <td>0.348142</td>\n",
              "      <td>Dress</td>\n",
              "      <td>Adidas</td>\n",
              "      <td>Women's Fashion</td>\n",
              "      <td>-0.448464</td>\n",
              "      <td>-1.699126</td>\n",
              "      <td>White</td>\n",
              "      <td>L</td>\n",
              "    </tr>\n",
              "  </tbody>\n",
              "</table>\n",
              "</div>\n",
              "      <button class=\"colab-df-convert\" onclick=\"convertToInteractive('df-f7008ada-482f-428a-a728-7eaef984fa59')\"\n",
              "              title=\"Convert this dataframe to an interactive table.\"\n",
              "              style=\"display:none;\">\n",
              "\n",
              "  <svg xmlns=\"http://www.w3.org/2000/svg\" height=\"24px\"viewBox=\"0 0 24 24\"\n",
              "       width=\"24px\">\n",
              "    <path d=\"M0 0h24v24H0V0z\" fill=\"none\"/>\n",
              "    <path d=\"M18.56 5.44l.94 2.06.94-2.06 2.06-.94-2.06-.94-.94-2.06-.94 2.06-2.06.94zm-11 1L8.5 8.5l.94-2.06 2.06-.94-2.06-.94L8.5 2.5l-.94 2.06-2.06.94zm10 10l.94 2.06.94-2.06 2.06-.94-2.06-.94-.94-2.06-.94 2.06-2.06.94z\"/><path d=\"M17.41 7.96l-1.37-1.37c-.4-.4-.92-.59-1.43-.59-.52 0-1.04.2-1.43.59L10.3 9.45l-7.72 7.72c-.78.78-.78 2.05 0 2.83L4 21.41c.39.39.9.59 1.41.59.51 0 1.02-.2 1.41-.59l7.78-7.78 2.81-2.81c.8-.78.8-2.07 0-2.86zM5.41 20L4 18.59l7.72-7.72 1.47 1.35L5.41 20z\"/>\n",
              "  </svg>\n",
              "      </button>\n",
              "\n",
              "\n",
              "\n",
              "    <div id=\"df-207da751-7836-4682-9b37-903aa4194ec2\">\n",
              "      <button class=\"colab-df-quickchart\" onclick=\"quickchart('df-207da751-7836-4682-9b37-903aa4194ec2')\"\n",
              "              title=\"Suggest charts.\"\n",
              "              style=\"display:none;\">\n",
              "\n",
              "<svg xmlns=\"http://www.w3.org/2000/svg\" height=\"24px\"viewBox=\"0 0 24 24\"\n",
              "     width=\"24px\">\n",
              "    <g>\n",
              "        <path d=\"M19 3H5c-1.1 0-2 .9-2 2v14c0 1.1.9 2 2 2h14c1.1 0 2-.9 2-2V5c0-1.1-.9-2-2-2zM9 17H7v-7h2v7zm4 0h-2V7h2v10zm4 0h-2v-4h2v4z\"/>\n",
              "    </g>\n",
              "</svg>\n",
              "      </button>\n",
              "    </div>\n",
              "\n",
              "<style>\n",
              "  .colab-df-quickchart {\n",
              "    background-color: #E8F0FE;\n",
              "    border: none;\n",
              "    border-radius: 50%;\n",
              "    cursor: pointer;\n",
              "    display: none;\n",
              "    fill: #1967D2;\n",
              "    height: 32px;\n",
              "    padding: 0 0 0 0;\n",
              "    width: 32px;\n",
              "  }\n",
              "\n",
              "  .colab-df-quickchart:hover {\n",
              "    background-color: #E2EBFA;\n",
              "    box-shadow: 0px 1px 2px rgba(60, 64, 67, 0.3), 0px 1px 3px 1px rgba(60, 64, 67, 0.15);\n",
              "    fill: #174EA6;\n",
              "  }\n",
              "\n",
              "  [theme=dark] .colab-df-quickchart {\n",
              "    background-color: #3B4455;\n",
              "    fill: #D2E3FC;\n",
              "  }\n",
              "\n",
              "  [theme=dark] .colab-df-quickchart:hover {\n",
              "    background-color: #434B5C;\n",
              "    box-shadow: 0px 1px 3px 1px rgba(0, 0, 0, 0.15);\n",
              "    filter: drop-shadow(0px 1px 2px rgba(0, 0, 0, 0.3));\n",
              "    fill: #FFFFFF;\n",
              "  }\n",
              "</style>\n",
              "\n",
              "    <script>\n",
              "      async function quickchart(key) {\n",
              "        const containerElement = document.querySelector('#' + key);\n",
              "        const charts = await google.colab.kernel.invokeFunction(\n",
              "            'suggestCharts', [key], {});\n",
              "      }\n",
              "    </script>\n",
              "\n",
              "      <script>\n",
              "\n",
              "function displayQuickchartButton(domScope) {\n",
              "  let quickchartButtonEl =\n",
              "    domScope.querySelector('#df-207da751-7836-4682-9b37-903aa4194ec2 button.colab-df-quickchart');\n",
              "  quickchartButtonEl.style.display =\n",
              "    google.colab.kernel.accessAllowed ? 'block' : 'none';\n",
              "}\n",
              "\n",
              "        displayQuickchartButton(document);\n",
              "      </script>\n",
              "      <style>\n",
              "    .colab-df-container {\n",
              "      display:flex;\n",
              "      flex-wrap:wrap;\n",
              "      gap: 12px;\n",
              "    }\n",
              "\n",
              "    .colab-df-convert {\n",
              "      background-color: #E8F0FE;\n",
              "      border: none;\n",
              "      border-radius: 50%;\n",
              "      cursor: pointer;\n",
              "      display: none;\n",
              "      fill: #1967D2;\n",
              "      height: 32px;\n",
              "      padding: 0 0 0 0;\n",
              "      width: 32px;\n",
              "    }\n",
              "\n",
              "    .colab-df-convert:hover {\n",
              "      background-color: #E2EBFA;\n",
              "      box-shadow: 0px 1px 2px rgba(60, 64, 67, 0.3), 0px 1px 3px 1px rgba(60, 64, 67, 0.15);\n",
              "      fill: #174EA6;\n",
              "    }\n",
              "\n",
              "    [theme=dark] .colab-df-convert {\n",
              "      background-color: #3B4455;\n",
              "      fill: #D2E3FC;\n",
              "    }\n",
              "\n",
              "    [theme=dark] .colab-df-convert:hover {\n",
              "      background-color: #434B5C;\n",
              "      box-shadow: 0px 1px 3px 1px rgba(0, 0, 0, 0.15);\n",
              "      filter: drop-shadow(0px 1px 2px rgba(0, 0, 0, 0.3));\n",
              "      fill: #FFFFFF;\n",
              "    }\n",
              "  </style>\n",
              "\n",
              "      <script>\n",
              "        const buttonEl =\n",
              "          document.querySelector('#df-f7008ada-482f-428a-a728-7eaef984fa59 button.colab-df-convert');\n",
              "        buttonEl.style.display =\n",
              "          google.colab.kernel.accessAllowed ? 'block' : 'none';\n",
              "\n",
              "        async function convertToInteractive(key) {\n",
              "          const element = document.querySelector('#df-f7008ada-482f-428a-a728-7eaef984fa59');\n",
              "          const dataTable =\n",
              "            await google.colab.kernel.invokeFunction('convertToInteractive',\n",
              "                                                     [key], {});\n",
              "          if (!dataTable) return;\n",
              "\n",
              "          const docLinkHtml = 'Like what you see? Visit the ' +\n",
              "            '<a target=\"_blank\" href=https://colab.research.google.com/notebooks/data_table.ipynb>data table notebook</a>'\n",
              "            + ' to learn more about interactive tables.';\n",
              "          element.innerHTML = '';\n",
              "          dataTable['output_type'] = 'display_data';\n",
              "          await google.colab.output.renderOutput(dataTable, element);\n",
              "          const docLink = document.createElement('div');\n",
              "          docLink.innerHTML = docLinkHtml;\n",
              "          element.appendChild(docLink);\n",
              "        }\n",
              "      </script>\n",
              "    </div>\n",
              "  </div>\n"
            ]
          },
          "metadata": {},
          "execution_count": 19
        }
      ],
      "source": [
        "df.head()"
      ]
    },
    {
      "cell_type": "markdown",
      "metadata": {
        "id": "IJGHcrh1pWL5"
      },
      "source": [
        "Encoding"
      ]
    },
    {
      "cell_type": "code",
      "execution_count": 20,
      "metadata": {
        "id": "pwmX-VAkpN_R"
      },
      "outputs": [],
      "source": [
        "from sklearn.preprocessing import OneHotEncoder"
      ]
    },
    {
      "cell_type": "code",
      "execution_count": 21,
      "metadata": {
        "id": "6mZN08VWpkeg"
      },
      "outputs": [],
      "source": [
        "ohe=OneHotEncoder()"
      ]
    },
    {
      "cell_type": "code",
      "execution_count": 22,
      "metadata": {
        "id": "93q-PiYrq6vd"
      },
      "outputs": [],
      "source": [
        "df_cat=df[cat_cols]"
      ]
    },
    {
      "cell_type": "code",
      "execution_count": 23,
      "metadata": {
        "id": "XajmD6CZps6t"
      },
      "outputs": [],
      "source": [
        "df_cat=pd.DataFrame(ohe.fit_transform(df_cat).todense(),columns=ohe.get_feature_names_out())"
      ]
    },
    {
      "cell_type": "code",
      "execution_count": 24,
      "metadata": {
        "id": "wShbz26IqaX5"
      },
      "outputs": [],
      "source": [
        "df = pd.concat([df, df_cat], axis=1)\n",
        "df.drop(cat_cols, axis=1, inplace=True)"
      ]
    },
    {
      "cell_type": "code",
      "execution_count": 25,
      "metadata": {
        "colab": {
          "base_uri": "https://localhost:8080/",
          "height": 334
        },
        "id": "6UiJYQDzq4_z",
        "outputId": "9748aacf-bfe4-4f58-8b73-979b3a54cb48"
      },
      "outputs": [
        {
          "output_type": "execute_result",
          "data": {
            "text/plain": [
              "    User ID  Product ID     Price    Rating  Product Name_Dress  \\\n",
              "0  0.854489   -1.234953  0.046235 -1.728399                 0.0   \n",
              "1 -0.675046    0.206114  1.644494 -1.727448                 1.0   \n",
              "2  0.715440    0.306573  1.644494 -1.708199                 0.0   \n",
              "3  0.124483   -1.113709 -0.105980 -1.704665                 0.0   \n",
              "4  1.028299    0.348142 -0.448464 -1.699126                 1.0   \n",
              "\n",
              "   Product Name_Jeans  Product Name_Shoes  Product Name_Sweater  \\\n",
              "0                 0.0                 1.0                   0.0   \n",
              "1                 0.0                 0.0                   0.0   \n",
              "2                 0.0                 0.0                   0.0   \n",
              "3                 0.0                 1.0                   0.0   \n",
              "4                 0.0                 0.0                   0.0   \n",
              "\n",
              "   Product Name_T-shirt  Brand_Adidas  ...  Color_Black  Color_Blue  \\\n",
              "0                   0.0           1.0  ...          0.0         1.0   \n",
              "1                   0.0           1.0  ...          0.0         0.0   \n",
              "2                   1.0           1.0  ...          0.0         0.0   \n",
              "3                   0.0           1.0  ...          0.0         1.0   \n",
              "4                   0.0           1.0  ...          0.0         0.0   \n",
              "\n",
              "   Color_Green  Color_Red  Color_White  Color_Yellow  Size_L  Size_M  Size_S  \\\n",
              "0          0.0        0.0          0.0           0.0     0.0     1.0     0.0   \n",
              "1          0.0        1.0          0.0           0.0     0.0     0.0     0.0   \n",
              "2          0.0        1.0          0.0           0.0     1.0     0.0     0.0   \n",
              "3          0.0        0.0          0.0           0.0     0.0     1.0     0.0   \n",
              "4          0.0        0.0          1.0           0.0     1.0     0.0     0.0   \n",
              "\n",
              "   Size_XL  \n",
              "0      0.0  \n",
              "1      1.0  \n",
              "2      0.0  \n",
              "3      0.0  \n",
              "4      0.0  \n",
              "\n",
              "[5 rows x 27 columns]"
            ],
            "text/html": [
              "\n",
              "\n",
              "  <div id=\"df-78e4ad49-919c-4b93-9307-535e4969032f\">\n",
              "    <div class=\"colab-df-container\">\n",
              "      <div>\n",
              "<style scoped>\n",
              "    .dataframe tbody tr th:only-of-type {\n",
              "        vertical-align: middle;\n",
              "    }\n",
              "\n",
              "    .dataframe tbody tr th {\n",
              "        vertical-align: top;\n",
              "    }\n",
              "\n",
              "    .dataframe thead th {\n",
              "        text-align: right;\n",
              "    }\n",
              "</style>\n",
              "<table border=\"1\" class=\"dataframe\">\n",
              "  <thead>\n",
              "    <tr style=\"text-align: right;\">\n",
              "      <th></th>\n",
              "      <th>User ID</th>\n",
              "      <th>Product ID</th>\n",
              "      <th>Price</th>\n",
              "      <th>Rating</th>\n",
              "      <th>Product Name_Dress</th>\n",
              "      <th>Product Name_Jeans</th>\n",
              "      <th>Product Name_Shoes</th>\n",
              "      <th>Product Name_Sweater</th>\n",
              "      <th>Product Name_T-shirt</th>\n",
              "      <th>Brand_Adidas</th>\n",
              "      <th>...</th>\n",
              "      <th>Color_Black</th>\n",
              "      <th>Color_Blue</th>\n",
              "      <th>Color_Green</th>\n",
              "      <th>Color_Red</th>\n",
              "      <th>Color_White</th>\n",
              "      <th>Color_Yellow</th>\n",
              "      <th>Size_L</th>\n",
              "      <th>Size_M</th>\n",
              "      <th>Size_S</th>\n",
              "      <th>Size_XL</th>\n",
              "    </tr>\n",
              "  </thead>\n",
              "  <tbody>\n",
              "    <tr>\n",
              "      <th>0</th>\n",
              "      <td>0.854489</td>\n",
              "      <td>-1.234953</td>\n",
              "      <td>0.046235</td>\n",
              "      <td>-1.728399</td>\n",
              "      <td>0.0</td>\n",
              "      <td>0.0</td>\n",
              "      <td>1.0</td>\n",
              "      <td>0.0</td>\n",
              "      <td>0.0</td>\n",
              "      <td>1.0</td>\n",
              "      <td>...</td>\n",
              "      <td>0.0</td>\n",
              "      <td>1.0</td>\n",
              "      <td>0.0</td>\n",
              "      <td>0.0</td>\n",
              "      <td>0.0</td>\n",
              "      <td>0.0</td>\n",
              "      <td>0.0</td>\n",
              "      <td>1.0</td>\n",
              "      <td>0.0</td>\n",
              "      <td>0.0</td>\n",
              "    </tr>\n",
              "    <tr>\n",
              "      <th>1</th>\n",
              "      <td>-0.675046</td>\n",
              "      <td>0.206114</td>\n",
              "      <td>1.644494</td>\n",
              "      <td>-1.727448</td>\n",
              "      <td>1.0</td>\n",
              "      <td>0.0</td>\n",
              "      <td>0.0</td>\n",
              "      <td>0.0</td>\n",
              "      <td>0.0</td>\n",
              "      <td>1.0</td>\n",
              "      <td>...</td>\n",
              "      <td>0.0</td>\n",
              "      <td>0.0</td>\n",
              "      <td>0.0</td>\n",
              "      <td>1.0</td>\n",
              "      <td>0.0</td>\n",
              "      <td>0.0</td>\n",
              "      <td>0.0</td>\n",
              "      <td>0.0</td>\n",
              "      <td>0.0</td>\n",
              "      <td>1.0</td>\n",
              "    </tr>\n",
              "    <tr>\n",
              "      <th>2</th>\n",
              "      <td>0.715440</td>\n",
              "      <td>0.306573</td>\n",
              "      <td>1.644494</td>\n",
              "      <td>-1.708199</td>\n",
              "      <td>0.0</td>\n",
              "      <td>0.0</td>\n",
              "      <td>0.0</td>\n",
              "      <td>0.0</td>\n",
              "      <td>1.0</td>\n",
              "      <td>1.0</td>\n",
              "      <td>...</td>\n",
              "      <td>0.0</td>\n",
              "      <td>0.0</td>\n",
              "      <td>0.0</td>\n",
              "      <td>1.0</td>\n",
              "      <td>0.0</td>\n",
              "      <td>0.0</td>\n",
              "      <td>1.0</td>\n",
              "      <td>0.0</td>\n",
              "      <td>0.0</td>\n",
              "      <td>0.0</td>\n",
              "    </tr>\n",
              "    <tr>\n",
              "      <th>3</th>\n",
              "      <td>0.124483</td>\n",
              "      <td>-1.113709</td>\n",
              "      <td>-0.105980</td>\n",
              "      <td>-1.704665</td>\n",
              "      <td>0.0</td>\n",
              "      <td>0.0</td>\n",
              "      <td>1.0</td>\n",
              "      <td>0.0</td>\n",
              "      <td>0.0</td>\n",
              "      <td>1.0</td>\n",
              "      <td>...</td>\n",
              "      <td>0.0</td>\n",
              "      <td>1.0</td>\n",
              "      <td>0.0</td>\n",
              "      <td>0.0</td>\n",
              "      <td>0.0</td>\n",
              "      <td>0.0</td>\n",
              "      <td>0.0</td>\n",
              "      <td>1.0</td>\n",
              "      <td>0.0</td>\n",
              "      <td>0.0</td>\n",
              "    </tr>\n",
              "    <tr>\n",
              "      <th>4</th>\n",
              "      <td>1.028299</td>\n",
              "      <td>0.348142</td>\n",
              "      <td>-0.448464</td>\n",
              "      <td>-1.699126</td>\n",
              "      <td>1.0</td>\n",
              "      <td>0.0</td>\n",
              "      <td>0.0</td>\n",
              "      <td>0.0</td>\n",
              "      <td>0.0</td>\n",
              "      <td>1.0</td>\n",
              "      <td>...</td>\n",
              "      <td>0.0</td>\n",
              "      <td>0.0</td>\n",
              "      <td>0.0</td>\n",
              "      <td>0.0</td>\n",
              "      <td>1.0</td>\n",
              "      <td>0.0</td>\n",
              "      <td>1.0</td>\n",
              "      <td>0.0</td>\n",
              "      <td>0.0</td>\n",
              "      <td>0.0</td>\n",
              "    </tr>\n",
              "  </tbody>\n",
              "</table>\n",
              "<p>5 rows × 27 columns</p>\n",
              "</div>\n",
              "      <button class=\"colab-df-convert\" onclick=\"convertToInteractive('df-78e4ad49-919c-4b93-9307-535e4969032f')\"\n",
              "              title=\"Convert this dataframe to an interactive table.\"\n",
              "              style=\"display:none;\">\n",
              "\n",
              "  <svg xmlns=\"http://www.w3.org/2000/svg\" height=\"24px\"viewBox=\"0 0 24 24\"\n",
              "       width=\"24px\">\n",
              "    <path d=\"M0 0h24v24H0V0z\" fill=\"none\"/>\n",
              "    <path d=\"M18.56 5.44l.94 2.06.94-2.06 2.06-.94-2.06-.94-.94-2.06-.94 2.06-2.06.94zm-11 1L8.5 8.5l.94-2.06 2.06-.94-2.06-.94L8.5 2.5l-.94 2.06-2.06.94zm10 10l.94 2.06.94-2.06 2.06-.94-2.06-.94-.94-2.06-.94 2.06-2.06.94z\"/><path d=\"M17.41 7.96l-1.37-1.37c-.4-.4-.92-.59-1.43-.59-.52 0-1.04.2-1.43.59L10.3 9.45l-7.72 7.72c-.78.78-.78 2.05 0 2.83L4 21.41c.39.39.9.59 1.41.59.51 0 1.02-.2 1.41-.59l7.78-7.78 2.81-2.81c.8-.78.8-2.07 0-2.86zM5.41 20L4 18.59l7.72-7.72 1.47 1.35L5.41 20z\"/>\n",
              "  </svg>\n",
              "      </button>\n",
              "\n",
              "\n",
              "\n",
              "    <div id=\"df-8ff4d262-6a23-40bf-ba74-2e4ca2311c67\">\n",
              "      <button class=\"colab-df-quickchart\" onclick=\"quickchart('df-8ff4d262-6a23-40bf-ba74-2e4ca2311c67')\"\n",
              "              title=\"Suggest charts.\"\n",
              "              style=\"display:none;\">\n",
              "\n",
              "<svg xmlns=\"http://www.w3.org/2000/svg\" height=\"24px\"viewBox=\"0 0 24 24\"\n",
              "     width=\"24px\">\n",
              "    <g>\n",
              "        <path d=\"M19 3H5c-1.1 0-2 .9-2 2v14c0 1.1.9 2 2 2h14c1.1 0 2-.9 2-2V5c0-1.1-.9-2-2-2zM9 17H7v-7h2v7zm4 0h-2V7h2v10zm4 0h-2v-4h2v4z\"/>\n",
              "    </g>\n",
              "</svg>\n",
              "      </button>\n",
              "    </div>\n",
              "\n",
              "<style>\n",
              "  .colab-df-quickchart {\n",
              "    background-color: #E8F0FE;\n",
              "    border: none;\n",
              "    border-radius: 50%;\n",
              "    cursor: pointer;\n",
              "    display: none;\n",
              "    fill: #1967D2;\n",
              "    height: 32px;\n",
              "    padding: 0 0 0 0;\n",
              "    width: 32px;\n",
              "  }\n",
              "\n",
              "  .colab-df-quickchart:hover {\n",
              "    background-color: #E2EBFA;\n",
              "    box-shadow: 0px 1px 2px rgba(60, 64, 67, 0.3), 0px 1px 3px 1px rgba(60, 64, 67, 0.15);\n",
              "    fill: #174EA6;\n",
              "  }\n",
              "\n",
              "  [theme=dark] .colab-df-quickchart {\n",
              "    background-color: #3B4455;\n",
              "    fill: #D2E3FC;\n",
              "  }\n",
              "\n",
              "  [theme=dark] .colab-df-quickchart:hover {\n",
              "    background-color: #434B5C;\n",
              "    box-shadow: 0px 1px 3px 1px rgba(0, 0, 0, 0.15);\n",
              "    filter: drop-shadow(0px 1px 2px rgba(0, 0, 0, 0.3));\n",
              "    fill: #FFFFFF;\n",
              "  }\n",
              "</style>\n",
              "\n",
              "    <script>\n",
              "      async function quickchart(key) {\n",
              "        const containerElement = document.querySelector('#' + key);\n",
              "        const charts = await google.colab.kernel.invokeFunction(\n",
              "            'suggestCharts', [key], {});\n",
              "      }\n",
              "    </script>\n",
              "\n",
              "      <script>\n",
              "\n",
              "function displayQuickchartButton(domScope) {\n",
              "  let quickchartButtonEl =\n",
              "    domScope.querySelector('#df-8ff4d262-6a23-40bf-ba74-2e4ca2311c67 button.colab-df-quickchart');\n",
              "  quickchartButtonEl.style.display =\n",
              "    google.colab.kernel.accessAllowed ? 'block' : 'none';\n",
              "}\n",
              "\n",
              "        displayQuickchartButton(document);\n",
              "      </script>\n",
              "      <style>\n",
              "    .colab-df-container {\n",
              "      display:flex;\n",
              "      flex-wrap:wrap;\n",
              "      gap: 12px;\n",
              "    }\n",
              "\n",
              "    .colab-df-convert {\n",
              "      background-color: #E8F0FE;\n",
              "      border: none;\n",
              "      border-radius: 50%;\n",
              "      cursor: pointer;\n",
              "      display: none;\n",
              "      fill: #1967D2;\n",
              "      height: 32px;\n",
              "      padding: 0 0 0 0;\n",
              "      width: 32px;\n",
              "    }\n",
              "\n",
              "    .colab-df-convert:hover {\n",
              "      background-color: #E2EBFA;\n",
              "      box-shadow: 0px 1px 2px rgba(60, 64, 67, 0.3), 0px 1px 3px 1px rgba(60, 64, 67, 0.15);\n",
              "      fill: #174EA6;\n",
              "    }\n",
              "\n",
              "    [theme=dark] .colab-df-convert {\n",
              "      background-color: #3B4455;\n",
              "      fill: #D2E3FC;\n",
              "    }\n",
              "\n",
              "    [theme=dark] .colab-df-convert:hover {\n",
              "      background-color: #434B5C;\n",
              "      box-shadow: 0px 1px 3px 1px rgba(0, 0, 0, 0.15);\n",
              "      filter: drop-shadow(0px 1px 2px rgba(0, 0, 0, 0.3));\n",
              "      fill: #FFFFFF;\n",
              "    }\n",
              "  </style>\n",
              "\n",
              "      <script>\n",
              "        const buttonEl =\n",
              "          document.querySelector('#df-78e4ad49-919c-4b93-9307-535e4969032f button.colab-df-convert');\n",
              "        buttonEl.style.display =\n",
              "          google.colab.kernel.accessAllowed ? 'block' : 'none';\n",
              "\n",
              "        async function convertToInteractive(key) {\n",
              "          const element = document.querySelector('#df-78e4ad49-919c-4b93-9307-535e4969032f');\n",
              "          const dataTable =\n",
              "            await google.colab.kernel.invokeFunction('convertToInteractive',\n",
              "                                                     [key], {});\n",
              "          if (!dataTable) return;\n",
              "\n",
              "          const docLinkHtml = 'Like what you see? Visit the ' +\n",
              "            '<a target=\"_blank\" href=https://colab.research.google.com/notebooks/data_table.ipynb>data table notebook</a>'\n",
              "            + ' to learn more about interactive tables.';\n",
              "          element.innerHTML = '';\n",
              "          dataTable['output_type'] = 'display_data';\n",
              "          await google.colab.output.renderOutput(dataTable, element);\n",
              "          const docLink = document.createElement('div');\n",
              "          docLink.innerHTML = docLinkHtml;\n",
              "          element.appendChild(docLink);\n",
              "        }\n",
              "      </script>\n",
              "    </div>\n",
              "  </div>\n"
            ]
          },
          "metadata": {},
          "execution_count": 25
        }
      ],
      "source": [
        "df.head()"
      ]
    },
    {
      "cell_type": "markdown",
      "metadata": {
        "id": "LUcMe09ysUy5"
      },
      "source": [
        "1.\tCustomer Segmentation: Use clustering algorithms to segment customers based on their product preferences, ratings, and interactions. This can help identify different customer groups with similar behaviors and needs"
      ]
    },
    {
      "cell_type": "code",
      "execution_count": 26,
      "metadata": {
        "colab": {
          "base_uri": "https://localhost:8080/",
          "height": 472
        },
        "id": "3efMfIe2sSkN",
        "outputId": "1e704bdc-ca0a-4993-d212-da59bd949f1d"
      },
      "outputs": [
        {
          "output_type": "display_data",
          "data": {
            "text/plain": [
              "<Figure size 640x480 with 1 Axes>"
            ],
            "image/png": "[encoded data removed]"
          },
          "metadata": {}
        }
      ],
      "source": [
        "import pandas as pd\n",
        "import matplotlib.pyplot as plt\n",
        "from sklearn.cluster import KMeans\n",
        "from sklearn.preprocessing import StandardScaler\n",
        "\n",
        "# Load the dataset\n",
        "df = pd.read_csv('/content/fashion_products.csv')\n",
        "\n",
        "# Select relevant features for clustering\n",
        "X = df[['Product ID', 'Rating']]\n",
        "\n",
        "# Data Preprocessing: Standardize the features\n",
        "scaler = StandardScaler()\n",
        "X_scaled = scaler.fit_transform(X)\n",
        "\n",
        "# Determine the optimal number of clusters (k) using the elbow method\n",
        "inertia = []\n",
        "for k in range(1, 11):\n",
        "    kmeans = KMeans(n_clusters=k, random_state=42)\n",
        "    kmeans.fit(X_scaled)\n",
        "    inertia.append(kmeans.inertia_)\n",
        "\n",
        "# Plot the elbow curve\n",
        "plt.plot(range(1, 11), inertia, marker='o')\n",
        "plt.xlabel('Number of Clusters (k)')\n",
        "plt.ylabel('Within-cluster Sum of Squares (Inertia)')\n",
        "plt.title('Elbow Method to Determine Optimal k')\n",
        "plt.show()\n",
        "\n",
        "# Based on the elbow curve, determine the optimal k (number of clusters)\n",
        "\n",
        "# Apply k-means clustering with the chosen k value\n",
        "k = 3  # You can choose the value based on the elbow method or domain knowledge\n",
        "kmeans = KMeans(n_clusters=k, random_state=42)\n",
        "df['Cluster'] = kmeans.fit_predict(X_scaled)\n"
      ]
    },
    {
      "cell_type": "markdown",
      "metadata": {
        "id": "zzxjJTwFu3Vc"
      },
      "source": [
        "3.\tBrand Analysis: Analyze the performance of different brands based on product ratings, prices, and customer feedback. Identify popular brands and customer sentiments toward them"
      ]
    },
    {
      "cell_type": "code",
      "execution_count": 27,
      "metadata": {
        "colab": {
          "base_uri": "https://localhost:8080/"
        },
        "id": "8fj4d_B6rXR6",
        "outputId": "de40d484-6f73-401a-a84b-173bc1f719dd"
      },
      "outputs": [
        {
          "output_type": "stream",
          "name": "stdout",
          "text": [
            "Brand Analysis:\n",
            "          Rating      Price  num_products\n",
            "Brand                                    \n",
            "Gucci   3.162277  55.429319           191\n",
            "Zara    3.001594  54.748768           203\n",
            "H&M     2.996309  57.567010           194\n",
            "Adidas  2.942720  53.515152           198\n",
            "Nike    2.877917  57.570093           214\n"
          ]
        }
      ],
      "source": [
        "import pandas as pd\n",
        "\n",
        "# Load the dataset\n",
        "data = pd.read_csv(\"/content/fashion_products.csv\")\n",
        "\n",
        "# Calculate average rating and price for each brand\n",
        "brand_stats = data.groupby(\"Brand\").agg({\"Rating\": \"mean\", \"Price\": \"mean\"})\n",
        "\n",
        "# Count the number of products for each brand\n",
        "brand_stats[\"num_products\"] = data[\"Brand\"].value_counts()\n",
        "\n",
        "# Sort brands by average rating\n",
        "brand_stats = brand_stats.sort_values(by=\"Rating\", ascending=False)\n",
        "\n",
        "# Print brand analysis\n",
        "print(\"Brand Analysis:\")\n",
        "print(brand_stats)\n",
        "\n",
        "# Sentiment analysis\n",
        "#positive_sentiment_brands = brand_stats[brand_stats[\"Rating\"] >= 4.0].index\n",
        "#negative_sentiment_brands = brand_stats[brand_stats[\"Rating\"] < 4.0].index\n",
        "\n",
        "#print(\"\\nPopular Brands with Positive Sentiment:\")\n",
        "#print(positive_sentiment_brands)\n",
        "\n",
        "#print(\"\\nBrands with Negative Sentiment:\")\n",
        "#print(negative_sentiment_brands)\n"
      ]
    },
    {
      "cell_type": "code",
      "execution_count": 29,
      "metadata": {
        "colab": {
          "base_uri": "https://localhost:8080/",
          "height": 1000
        },
        "id": "nVQqkyv2rXr5",
        "outputId": "dd75e5b6-db03-49c3-c9d3-59d8c7111f4d"
      },
      "outputs": [
        {
          "output_type": "display_data",
          "data": {
            "text/plain": [
              "<Figure size 1000x600 with 1 Axes>"
            ],
            "image/png": "[encoded data removed]"
          },
          "metadata": {}
        },
        {
          "output_type": "display_data",
          "data": {
            "text/plain": [
              "<Figure size 1000x600 with 1 Axes>"
            ],
            "image/png": "[encoded data removed]"
          },
          "metadata": {}
        }
      ],
      "source": [
        "import pandas as pd\n",
        "import matplotlib.pyplot as plt\n",
        "\n",
        "# Load the dataset\n",
        "data = pd.read_csv('/content/fashion_products.csv')\n",
        "\n",
        "# Assuming columns 'brand', 'product_rating', 'price' in the dataset\n",
        "\n",
        "# Group data by brand and calculate mean product rating and average price\n",
        "brand_performance = data.groupby('Brand')[['Rating', 'Price']].mean().reset_index()\n",
        "\n",
        "# Sort brands by average product rating\n",
        "brand_performance = brand_performance.sort_values(by='Rating', ascending=False)\n",
        "\n",
        "# Plotting\n",
        "plt.figure(figsize=(10, 6))\n",
        "plt.barh(brand_performance['Brand'], brand_performance['Rating'], color='skyblue')\n",
        "plt.xlabel('Average Product Rating')\n",
        "plt.ylabel('Brand')\n",
        "plt.title('Brand Performance Based on Product Ratings')\n",
        "plt.gca().invert_yaxis()  # Invert y-axis to have the highest rating on top\n",
        "plt.show()\n",
        "\n",
        "# Sort brands by average price\n",
        "brand_performance = brand_performance.sort_values(by='Price', ascending=False)\n",
        "\n",
        "# Plotting\n",
        "plt.figure(figsize=(10, 6))\n",
        "plt.barh(brand_performance['Brand'], brand_performance['Price'], color='lightgreen')\n",
        "plt.xlabel('Average Price')\n",
        "plt.ylabel('Brand')\n",
        "plt.title('Brand Performance Based on Average Prices')\n",
        "plt.gca().invert_yaxis()\n",
        "plt.show()\n",
        "\n",
        "#Based on Product Ratings \"Gucci\" Brand has high brand performance based on the ratings given by the people on the product\n",
        "#Based on Average Prices \"Nike\" and \"H&M\" Brands has average prices\n",
        "\n"
      ]
    },
    {
      "cell_type": "markdown",
      "metadata": {
        "id": "KY9ecpYzyhu6"
      },
      "source": [
        "4.\tCategory Analysis: Explore the distribution of products across different categories and analyze which categories are most popular among customers."
      ]
    },
    {
      "cell_type": "code",
      "execution_count": 30,
      "metadata": {
        "colab": {
          "base_uri": "https://localhost:8080/",
          "height": 542
        },
        "id": "injkeJOdxivu",
        "outputId": "d5440a95-3416-4c13-99eb-c5087bd1fc55"
      },
      "outputs": [
        {
          "output_type": "display_data",
          "data": {
            "text/html": [
              "<html>\n",
              "<head><meta charset=\"utf-8\" /></head>\n",
              "<body>\n",
              "    <div>            <script src=\"https://cdnjs.cloudflare.com/ajax/libs/mathjax/2.7.5/MathJax.js?config=TeX-AMS-MML_SVG\"></script><script type=\"text/javascript\">if (window.MathJax && window.MathJax.Hub && window.MathJax.Hub.Config) {window.MathJax.Hub.Config({SVG: {font: \"STIX-Web\"}});}</script>                <script type=\"text/javascript\">window.PlotlyConfig = {MathJaxConfig: 'local'};</script>\n",
              "        <script src=\"https://cdn.plot.ly/plotly-2.18.2.min.js\"></script>                <div id=\"5eb4078b-3d4b-4e2e-acaa-98f9cba86890\" class=\"plotly-graph-div\" style=\"height:525px; width:100%;\"></div>            <script type=\"text/javascript\">                                    window.PLOTLYENV=window.PLOTLYENV || {};                                    if (document.getElementById(\"5eb4078b-3d4b-4e2e-acaa-98f9cba86890\")) {                    Plotly.newPlot(                        \"5eb4078b-3d4b-4e2e-acaa-98f9cba86890\",                        [{\"alignmentgroup\":\"True\",\"hovertemplate\":\"Category=%{x}<br>Number of Products=%{y}<extra></extra>\",\"legendgroup\":\"\",\"marker\":{\"color\":\"#636efa\",\"pattern\":{\"shape\":\"\"}},\"name\":\"\",\"offsetgroup\":\"\",\"orientation\":\"v\",\"showlegend\":false,\"textposition\":\"auto\",\"x\":[\"Kids' Fashion\",\"Women's Fashion\",\"Men's Fashion\"],\"xaxis\":\"x\",\"y\":[351,327,322],\"yaxis\":\"y\",\"type\":\"bar\"}],                        {\"template\":{\"data\":{\"histogram2dcontour\":[{\"type\":\"histogram2dcontour\",\"colorbar\":{\"outlinewidth\":0,\"ticks\":\"\"},\"colorscale\":[[0.0,\"#0d0887\"],[0.1111111111111111,\"#46039f\"],[0.2222222222222222,\"#7201a8\"],[0.3333333333333333,\"#9c179e\"],[0.4444444444444444,\"#bd3786\"],[0.5555555555555556,\"#d8576b\"],[0.6666666666666666,\"#ed7953\"],[0.7777777777777778,\"#fb9f3a\"],[0.8888888888888888,\"#fdca26\"],[1.0,\"#f0f921\"]]}],\"choropleth\":[{\"type\":\"choropleth\",\"colorbar\":{\"outlinewidth\":0,\"ticks\":\"\"}}],\"histogram2d\":[{\"type\":\"histogram2d\",\"colorbar\":{\"outlinewidth\":0,\"ticks\":\"\"},\"colorscale\":[[0.0,\"#0d0887\"],[0.1111111111111111,\"#46039f\"],[0.2222222222222222,\"#7201a8\"],[0.3333333333333333,\"#9c179e\"],[0.4444444444444444,\"#bd3786\"],[0.5555555555555556,\"#d8576b\"],[0.6666666666666666,\"#ed7953\"],[0.7777777777777778,\"#fb9f3a\"],[0.8888888888888888,\"#fdca26\"],[1.0,\"#f0f921\"]]}],\"heatmap\":[{\"type\":\"heatmap\",\"colorbar\":{\"outlinewidth\":0,\"ticks\":\"\"},\"colorscale\":[[0.0,\"#0d0887\"],[0.1111111111111111,\"#46039f\"],[0.2222222222222222,\"#7201a8\"],[0.3333333333333333,\"#9c179e\"],[0.4444444444444444,\"#bd3786\"],[0.5555555555555556,\"#d8576b\"],[0.6666666666666666,\"#ed7953\"],[0.7777777777777778,\"#fb9f3a\"],[0.8888888888888888,\"#fdca26\"],[1.0,\"#f0f921\"]]}],\"heatmapgl\":[{\"type\":\"heatmapgl\",\"colorbar\":{\"outlinewidth\":0,\"ticks\":\"\"},\"colorscale\":[[0.0,\"#0d0887\"],[0.1111111111111111,\"#46039f\"],[0.2222222222222222,\"#7201a8\"],[0.3333333333333333,\"#9c179e\"],[0.4444444444444444,\"#bd3786\"],[0.5555555555555556,\"#d8576b\"],[0.6666666666666666,\"#ed7953\"],[0.7777777777777778,\"#fb9f3a\"],[0.8888888888888888,\"#fdca26\"],[1.0,\"#f0f921\"]]}],\"contourcarpet\":[{\"type\":\"contourcarpet\",\"colorbar\":{\"outlinewidth\":0,\"ticks\":\"\"}}],\"contour\":[{\"type\":\"contour\",\"colorbar\":{\"outlinewidth\":0,\"ticks\":\"\"},\"colorscale\":[[0.0,\"#0d0887\"],[0.1111111111111111,\"#46039f\"],[0.2222222222222222,\"#7201a8\"],[0.3333333333333333,\"#9c179e\"],[0.4444444444444444,\"#bd3786\"],[0.5555555555555556,\"#d8576b\"],[0.6666666666666666,\"#ed7953\"],[0.7777777777777778,\"#fb9f3a\"],[0.8888888888888888,\"#fdca26\"],[1.0,\"#f0f921\"]]}],\"surface\":[{\"type\":\"surface\",\"colorbar\":{\"outlinewidth\":0,\"ticks\":\"\"},\"colorscale\":[[0.0,\"#0d0887\"],[0.1111111111111111,\"#46039f\"],[0.2222222222222222,\"#7201a8\"],[0.3333333333333333,\"#9c179e\"],[0.4444444444444444,\"#bd3786\"],[0.5555555555555556,\"#d8576b\"],[0.6666666666666666,\"#ed7953\"],[0.7777777777777778,\"#fb9f3a\"],[0.8888888888888888,\"#fdca26\"],[1.0,\"#f0f921\"]]}],\"mesh3d\":[{\"type\":\"mesh3d\",\"colorbar\":{\"outlinewidth\":0,\"ticks\":\"\"}}],\"scatter\":[{\"fillpattern\":{\"fillmode\":\"overlay\",\"size\":10,\"solidity\":0.2},\"type\":\"scatter\"}],\"parcoords\":[{\"type\":\"parcoords\",\"line\":{\"colorbar\":{\"outlinewidth\":0,\"ticks\":\"\"}}}],\"scatterpolargl\":[{\"type\":\"scatterpolargl\",\"marker\":{\"colorbar\":{\"outlinewidth\":0,\"ticks\":\"\"}}}],\"bar\":[{\"error_x\":{\"color\":\"#2a3f5f\"},\"error_y\":{\"color\":\"#2a3f5f\"},\"marker\":{\"line\":{\"color\":\"#E5ECF6\",\"width\":0.5},\"pattern\":{\"fillmode\":\"overlay\",\"size\":10,\"solidity\":0.2}},\"type\":\"bar\"}],\"scattergeo\":[{\"type\":\"scattergeo\",\"marker\":{\"colorbar\":{\"outlinewidth\":0,\"ticks\":\"\"}}}],\"scatterpolar\":[{\"type\":\"scatterpolar\",\"marker\":{\"colorbar\":{\"outlinewidth\":0,\"ticks\":\"\"}}}],\"histogram\":[{\"marker\":{\"pattern\":{\"fillmode\":\"overlay\",\"size\":10,\"solidity\":0.2}},\"type\":\"histogram\"}],\"scattergl\":[{\"type\":\"scattergl\",\"marker\":{\"colorbar\":{\"outlinewidth\":0,\"ticks\":\"\"}}}],\"scatter3d\":[{\"type\":\"scatter3d\",\"line\":{\"colorbar\":{\"outlinewidth\":0,\"ticks\":\"\"}},\"marker\":{\"colorbar\":{\"outlinewidth\":0,\"ticks\":\"\"}}}],\"scattermapbox\":[{\"type\":\"scattermapbox\",\"marker\":{\"colorbar\":{\"outlinewidth\":0,\"ticks\":\"\"}}}],\"scatterternary\":[{\"type\":\"scatterternary\",\"marker\":{\"colorbar\":{\"outlinewidth\":0,\"ticks\":\"\"}}}],\"scattercarpet\":[{\"type\":\"scattercarpet\",\"marker\":{\"colorbar\":{\"outlinewidth\":0,\"ticks\":\"\"}}}],\"carpet\":[{\"aaxis\":{\"endlinecolor\":\"#2a3f5f\",\"gridcolor\":\"white\",\"linecolor\":\"white\",\"minorgridcolor\":\"white\",\"startlinecolor\":\"#2a3f5f\"},\"baxis\":{\"endlinecolor\":\"#2a3f5f\",\"gridcolor\":\"white\",\"linecolor\":\"white\",\"minorgridcolor\":\"white\",\"startlinecolor\":\"#2a3f5f\"},\"type\":\"carpet\"}],\"table\":[{\"cells\":{\"fill\":{\"color\":\"#EBF0F8\"},\"line\":{\"color\":\"white\"}},\"header\":{\"fill\":{\"color\":\"#C8D4E3\"},\"line\":{\"color\":\"white\"}},\"type\":\"table\"}],\"barpolar\":[{\"marker\":{\"line\":{\"color\":\"#E5ECF6\",\"width\":0.5},\"pattern\":{\"fillmode\":\"overlay\",\"size\":10,\"solidity\":0.2}},\"type\":\"barpolar\"}],\"pie\":[{\"automargin\":true,\"type\":\"pie\"}]},\"layout\":{\"autotypenumbers\":\"strict\",\"colorway\":[\"#636efa\",\"#EF553B\",\"#00cc96\",\"#ab63fa\",\"#FFA15A\",\"#19d3f3\",\"#FF6692\",\"#B6E880\",\"#FF97FF\",\"#FECB52\"],\"font\":{\"color\":\"#2a3f5f\"},\"hovermode\":\"closest\",\"hoverlabel\":{\"align\":\"left\"},\"paper_bgcolor\":\"white\",\"plot_bgcolor\":\"#E5ECF6\",\"polar\":{\"bgcolor\":\"#E5ECF6\",\"angularaxis\":{\"gridcolor\":\"white\",\"linecolor\":\"white\",\"ticks\":\"\"},\"radialaxis\":{\"gridcolor\":\"white\",\"linecolor\":\"white\",\"ticks\":\"\"}},\"ternary\":{\"bgcolor\":\"#E5ECF6\",\"aaxis\":{\"gridcolor\":\"white\",\"linecolor\":\"white\",\"ticks\":\"\"},\"baxis\":{\"gridcolor\":\"white\",\"linecolor\":\"white\",\"ticks\":\"\"},\"caxis\":{\"gridcolor\":\"white\",\"linecolor\":\"white\",\"ticks\":\"\"}},\"coloraxis\":{\"colorbar\":{\"outlinewidth\":0,\"ticks\":\"\"}},\"colorscale\":{\"sequential\":[[0.0,\"#0d0887\"],[0.1111111111111111,\"#46039f\"],[0.2222222222222222,\"#7201a8\"],[0.3333333333333333,\"#9c179e\"],[0.4444444444444444,\"#bd3786\"],[0.5555555555555556,\"#d8576b\"],[0.6666666666666666,\"#ed7953\"],[0.7777777777777778,\"#fb9f3a\"],[0.8888888888888888,\"#fdca26\"],[1.0,\"#f0f921\"]],\"sequentialminus\":[[0.0,\"#0d0887\"],[0.1111111111111111,\"#46039f\"],[0.2222222222222222,\"#7201a8\"],[0.3333333333333333,\"#9c179e\"],[0.4444444444444444,\"#bd3786\"],[0.5555555555555556,\"#d8576b\"],[0.6666666666666666,\"#ed7953\"],[0.7777777777777778,\"#fb9f3a\"],[0.8888888888888888,\"#fdca26\"],[1.0,\"#f0f921\"]],\"diverging\":[[0,\"#8e0152\"],[0.1,\"#c51b7d\"],[0.2,\"#de77ae\"],[0.3,\"#f1b6da\"],[0.4,\"#fde0ef\"],[0.5,\"#f7f7f7\"],[0.6,\"#e6f5d0\"],[0.7,\"#b8e186\"],[0.8,\"#7fbc41\"],[0.9,\"#4d9221\"],[1,\"#276419\"]]},\"xaxis\":{\"gridcolor\":\"white\",\"linecolor\":\"white\",\"ticks\":\"\",\"title\":{\"standoff\":15},\"zerolinecolor\":\"white\",\"automargin\":true,\"zerolinewidth\":2},\"yaxis\":{\"gridcolor\":\"white\",\"linecolor\":\"white\",\"ticks\":\"\",\"title\":{\"standoff\":15},\"zerolinecolor\":\"white\",\"automargin\":true,\"zerolinewidth\":2},\"scene\":{\"xaxis\":{\"backgroundcolor\":\"#E5ECF6\",\"gridcolor\":\"white\",\"linecolor\":\"white\",\"showbackground\":true,\"ticks\":\"\",\"zerolinecolor\":\"white\",\"gridwidth\":2},\"yaxis\":{\"backgroundcolor\":\"#E5ECF6\",\"gridcolor\":\"white\",\"linecolor\":\"white\",\"showbackground\":true,\"ticks\":\"\",\"zerolinecolor\":\"white\",\"gridwidth\":2},\"zaxis\":{\"backgroundcolor\":\"#E5ECF6\",\"gridcolor\":\"white\",\"linecolor\":\"white\",\"showbackground\":true,\"ticks\":\"\",\"zerolinecolor\":\"white\",\"gridwidth\":2}},\"shapedefaults\":{\"line\":{\"color\":\"#2a3f5f\"}},\"annotationdefaults\":{\"arrowcolor\":\"#2a3f5f\",\"arrowhead\":0,\"arrowwidth\":1},\"geo\":{\"bgcolor\":\"white\",\"landcolor\":\"#E5ECF6\",\"subunitcolor\":\"white\",\"showland\":true,\"showlakes\":true,\"lakecolor\":\"white\"},\"title\":{\"x\":0.05},\"mapbox\":{\"style\":\"light\"}}},\"xaxis\":{\"anchor\":\"y\",\"domain\":[0.0,1.0],\"title\":{\"text\":\"Category\"},\"tickangle\":45},\"yaxis\":{\"anchor\":\"x\",\"domain\":[0.0,1.0],\"title\":{\"text\":\"Number of Products\"}},\"legend\":{\"tracegroupgap\":0},\"title\":{\"text\":\"Distribution of Products Across Categories\"},\"barmode\":\"relative\"},                        {\"responsive\": true}                    ).then(function(){\n",
              "                            \n",
              "var gd = document.getElementById('5eb4078b-3d4b-4e2e-acaa-98f9cba86890');\n",
              "var x = new MutationObserver(function (mutations, observer) {{\n",
              "        var display = window.getComputedStyle(gd).display;\n",
              "        if (!display || display === 'none') {{\n",
              "            console.log([gd, 'removed!']);\n",
              "            Plotly.purge(gd);\n",
              "            observer.disconnect();\n",
              "        }}\n",
              "}});\n",
              "\n",
              "// Listen for the removal of the full notebook cells\n",
              "var notebookContainer = gd.closest('#notebook-container');\n",
              "if (notebookContainer) {{\n",
              "    x.observe(notebookContainer, {childList: true});\n",
              "}}\n",
              "\n",
              "// Listen for the clearing of the current output cell\n",
              "var outputEl = gd.closest('.output');\n",
              "if (outputEl) {{\n",
              "    x.observe(outputEl, {childList: true});\n",
              "}}\n",
              "\n",
              "                        })                };                            </script>        </div>\n",
              "</body>\n",
              "</html>"
            ]
          },
          "metadata": {}
        }
      ],
      "source": [
        "\n",
        "# Count the number of products in each category\n",
        "category_counts = df['Category'].value_counts().reset_index()\n",
        "category_counts.columns = ['Category', 'Number of Products']\n",
        "\n",
        "# Create an interactive bar plot using Plotly\n",
        "fig = px.bar(category_counts, x='Category', y='Number of Products', title='Distribution of Products Across Categories')\n",
        "fig.update_xaxes(tickangle=45)\n",
        "\n",
        "# Show the plot\n",
        "fig.show()\n",
        "\n",
        "#Distribution of Products in \"Kids Category\" is the most popular among the three categories"
      ]
    },
    {
      "cell_type": "markdown",
      "metadata": {
        "id": "udK9r88-zlxi"
      },
      "source": [
        "5.\tPrice Analysis: Investigate the relationship between product prices and customer ratings or sales to understand the impact of pricing on product demand"
      ]
    },
    {
      "cell_type": "code",
      "execution_count": 33,
      "metadata": {
        "colab": {
          "base_uri": "https://localhost:8080/",
          "height": 569
        },
        "id": "wPnYsw-hwhCf",
        "outputId": "21f4528d-4632-455c-a1d4-2c5c1eec66fc"
      },
      "outputs": [
        {
          "output_type": "display_data",
          "data": {
            "text/plain": [
              "<Figure size 1200x600 with 2 Axes>"
            ],
            "image/png": "[encoded data removed]"
          },
          "metadata": {}
        }
      ],
      "source": [
        "import pandas as pd\n",
        "import matplotlib.pyplot as plt\n",
        "\n",
        "# Load the dataset\n",
        "data = pd.read_csv('/content/fashion_products.csv')\n",
        "\n",
        "# Assuming columns 'brand', 'product_rating', 'price' in the dataset\n",
        "\n",
        "# Group data by brand and calculate mean product rating and average price\n",
        "brand_performance = data.groupby('Brand')[['Rating', 'Price']].mean().reset_index()\n",
        "\n",
        "# Sort brands by average product rating\n",
        "brand_performance = brand_performance.sort_values(by='Rating', ascending=False)\n",
        "\n",
        "# Create a bar graph to show the relationship between product prices, ratings, and brands\n",
        "plt.figure(figsize=(12, 6))\n",
        "\n",
        "# Plotting average product ratings\n",
        "plt.subplot(1, 2, 1)\n",
        "plt.bar(brand_performance['Brand'], brand_performance['Rating'], color='skyblue')\n",
        "plt.xlabel('Brand')\n",
        "plt.ylabel('Average Product Rating')\n",
        "plt.title('Average Product Ratings by Brand')\n",
        "plt.xticks(rotation=45, ha='right')\n",
        "plt.tight_layout()\n",
        "\n",
        "# Plotting average prices\n",
        "plt.subplot(1, 2, 2)\n",
        "plt.bar(brand_performance['Brand'], brand_performance['Price'], color='lightgreen')\n",
        "plt.xlabel('Brand')\n",
        "plt.ylabel('Average Price')\n",
        "plt.title('Average Prices by Brand')\n",
        "plt.xticks(rotation=45, ha='right')\n",
        "plt.tight_layout()\n",
        "\n",
        "plt.show()\n",
        "\n",
        "#In Average products ratings by Brand \"Gucci \" brand has the average product ratings among the given five brands\n",
        "# In Average Prices by Brand \"H&M\" and \"Nike\" Brands has the average prices of the products among the given five brands\n"
      ]
    },
    {
      "cell_type": "markdown",
      "metadata": {
        "id": "gJMKG_mE50LK"
      },
      "source": [
        "7.\tCustomer Lifetime Value (CLV): Calculate the CLV for different customer segments to understand the long-term value of each customer group."
      ]
    },
    {
      "cell_type": "code",
      "execution_count": 32,
      "metadata": {
        "colab": {
          "base_uri": "https://localhost:8080/"
        },
        "id": "kVItjMJXzzai",
        "outputId": "4169db38-041a-4467-e2a2-6ccc6d858e55"
      },
      "outputs": [
        {
          "output_type": "stream",
          "name": "stdout",
          "text": [
            "Cluster\n",
            "0    185.093750\n",
            "1    214.346939\n",
            "2    179.052632\n",
            "Name: Total_Spend, dtype: float64\n"
          ]
        }
      ],
      "source": [
        "# Group by user and segment, then calculate average CLV\n",
        "user_segment_clv = df.groupby(['User ID', 'Cluster'])['Price'].sum().reset_index()\n",
        "user_segment_clv.rename(columns={'Price': 'Total_Spend'}, inplace=True)\n",
        "\n",
        "# Calculate average CLV per segment\n",
        "segment_clv = user_segment_clv.groupby('Cluster')['Total_Spend'].mean()\n",
        "\n",
        "# Display segment-level CLV\n",
        "print(segment_clv)"
      ]
    },
    {
      "cell_type": "markdown",
      "metadata": {
        "id": "B2iZLv-IzgCN"
      },
      "source": [
        "8.Market Basket Analysis: Identify associations and patterns between products frequently\n",
        "purchased together, which can be useful for cross-selling and product bundling strategies."
      ]
    },
    {
      "cell_type": "code",
      "execution_count": 35,
      "metadata": {
        "colab": {
          "base_uri": "https://localhost:8080/"
        },
        "id": "R9Bnfpz9zhp1",
        "outputId": "a880c10d-bd9b-4ba4-b6a0-c85a304932ad"
      },
      "outputs": [
        {
          "output_type": "stream",
          "name": "stdout",
          "text": [
            "          antecedents                       consequents  antecedent support  \\\n",
            "0             (Jeans)                           (Dress)                0.91   \n",
            "1             (Dress)                           (Jeans)                0.79   \n",
            "2           (Sweater)                           (Dress)                0.77   \n",
            "3             (Dress)                         (Sweater)                0.79   \n",
            "4             (Jeans)                           (Shoes)                0.91   \n",
            "..                ...                               ...                 ...   \n",
            "101  (Sweater, Jeans)           (Dress, T-shirt, Shoes)                0.71   \n",
            "102  (Sweater, Dress)           (Jeans, T-shirt, Shoes)                0.61   \n",
            "103           (Jeans)  (Sweater, Dress, T-shirt, Shoes)                0.91   \n",
            "104           (Dress)  (Sweater, Jeans, T-shirt, Shoes)                0.79   \n",
            "105         (Sweater)    (Jeans, Dress, T-shirt, Shoes)                0.77   \n",
            "\n",
            "     consequent support  support  confidence      lift  leverage  conviction  \\\n",
            "0                  0.79     0.73    0.802198  1.015440    0.0111    1.061667   \n",
            "1                  0.91     0.73    0.924051  1.015440    0.0111    1.185000   \n",
            "2                  0.79     0.61    0.792208  1.002795    0.0017    1.010625   \n",
            "3                  0.77     0.61    0.772152  1.002795    0.0017    1.009444   \n",
            "4                  0.90     0.82    0.901099  1.001221    0.0010    1.011111   \n",
            "..                  ...      ...         ...       ...       ...         ...   \n",
            "101                0.58     0.42    0.591549  1.019913    0.0082    1.028276   \n",
            "102                0.68     0.42    0.688525  1.012536    0.0052    1.027368   \n",
            "103                0.46     0.42    0.461538  1.003344    0.0014    1.002857   \n",
            "104                0.53     0.42    0.531646  1.003105    0.0013    1.003514   \n",
            "105                0.54     0.42    0.545455  1.010101    0.0042    1.012000   \n",
            "\n",
            "     zhangs_metric  \n",
            "0         0.168950  \n",
            "1         0.072407  \n",
            "2         0.012117  \n",
            "3         0.013271  \n",
            "4         0.013550  \n",
            "..             ...  \n",
            "101       0.067323  \n",
            "102       0.031746  \n",
            "103       0.037037  \n",
            "104       0.014739  \n",
            "105       0.043478  \n",
            "\n",
            "[106 rows x 10 columns]\n"
          ]
        }
      ],
      "source": [
        "import pandas as pd\n",
        "from mlxtend.frequent_patterns import apriori\n",
        "from mlxtend.frequent_patterns import association_rules\n",
        "\n",
        "# Load the dataset\n",
        "data = pd.read_csv('/content/fashion_products.csv')\n",
        "\n",
        "# Convert data to a format suitable for Market Basket Analysis\n",
        "# We assume each transaction corresponds to a unique 'User ID' and contains 'Product Name'\n",
        "basket = data.groupby(['User ID', 'Product Name'])['Product Name'].count().unstack().reset_index().fillna(0).set_index('User ID')\n",
        "\n",
        "# Convert count values to binary (0 or 1)\n",
        "def encode_units(x):\n",
        "    if x <= 0:\n",
        "        return 0\n",
        "    if x >= 1:\n",
        "        return 1\n",
        "\n",
        "basket_sets = basket.applymap(encode_units)\n",
        "\n",
        "# Apply Apriori algorithm\n",
        "frequent_itemsets = apriori(basket_sets, min_support=0.05, use_colnames=True)\n",
        "\n",
        "# Generate association rules\n",
        "rules = association_rules(frequent_itemsets, metric=\"lift\", min_threshold=1)\n",
        "\n",
        "# Display the resulting association rules\n",
        "print(rules)\n",
        "\n",
        "# People by the User Id's who have bought the antecedents(things which they bought) has a high chances of buying consequents(high chances of buying the things given in consequents) given by the support (means that there are the high chances of buying the things given in the consequents)"
      ]
    },
    {
      "cell_type": "markdown",
      "metadata": {
        "id": "8ZCRYcml0rT0"
      },
      "source": [
        "9. Customer Churn Prediction: Predict customer churn (customers likely to stop purchasing)\n",
        "based on their interactions and historical behavior."
      ]
    },
    {
      "cell_type": "code",
      "execution_count": 36,
      "metadata": {
        "id": "Rd_GI9FlDF3y",
        "colab": {
          "base_uri": "https://localhost:8080/"
        },
        "outputId": "addeea83-146e-4178-f4f4-9d062f2fd004"
      },
      "outputs": [
        {
          "output_type": "stream",
          "name": "stdout",
          "text": [
            "Low Brand:\n",
            "     Brand    Rating  Price\n",
            "198  Gucci  1.005087     16\n",
            "199  Gucci  1.050046     69\n",
            "200  Gucci  1.123240     38\n",
            "201  Gucci  1.184450     18\n",
            "202  Gucci  1.202303     17\n",
            "..     ...       ...    ...\n",
            "276  Gucci  2.923982     34\n",
            "277  Gucci  2.954603     21\n",
            "278  Gucci  2.958505     98\n",
            "279  Gucci  2.970809     73\n",
            "280  Gucci  2.983803     35\n",
            "\n",
            "[83 rows x 3 columns]\n"
          ]
        }
      ],
      "source": [
        "# Assuming your dataset has columns like 'customer_id', 'brand', 'rating', and 'churn'\n",
        "# Filter data for the specific brand\n",
        "specific_brand = 'Gucci'\n",
        "brand_data = df[df['Brand'] == specific_brand]\n",
        "\n",
        "# Filter for customers with low ratings (you can adjust the threshold)\n",
        "low_rating_threshold = 3\n",
        "low_rating_customers = brand_data[brand_data['Rating'] < low_rating_threshold]\n",
        "\n",
        "# Create a binary churn column (1 for churned customers, 0 otherwise)\n",
        "low_rating_customers['churn'] = 1\n",
        "print(\"Low Brand:\")\n",
        "print(low_rating_customers[['Brand', 'Rating', 'Price']])\n",
        "\n",
        "# according to the brands the low ratings of the products has been displayed (the ratings given by the Users when they bought the products)"
      ]
    },
    {
      "cell_type": "markdown",
      "source": [
        "\n",
        "Conclusion\n",
        "---\n",
        "I have imported the libraries which are useful for my project(libaries such as  pandas as pd, scikit,plotly and matplotlib(visulation), mxltend(for using market basket analysis).Afterthat i did datapreprocessing and after datapreprocessing i did feature engineering and in clustering i have used K clustering, for the better understanding the concept and the curve with elbow method after the finding the brand analysis and after that by  the analysis of categories and analysis of the average prices and product rating based in the brand and using Market Basket Anlysis we have predicted that the customers having the high chances of buying recommended products and the brands which has the low rating products that users have less chances of buying the things in the brands  \n",
        "\n"
      ],
      "metadata": {
        "id": "HNjS4nRx-BaK"
      }
    }
  ],
  "metadata": {
    "colab": {
      "provenance": []
    },
    "kernelspec": {
      "display_name": "Python 3",
      "name": "python3"
    },
    "language_info": {
      "name": "python"
    }
  },
  "nbformat": 4,
  "nbformat_minor": 0
}